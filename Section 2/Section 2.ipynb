{
 "cells": [
  {
   "cell_type": "markdown",
   "metadata": {},
   "source": [
    "## ID : 816000325\n",
    "## Name: Ajay Sieunarine\n",
    "## Email: ajay.sieunarine@my.uwi.edu\n",
    "## Repo: https://github.com/jefroy/big-data-A4"
   ]
  },
  {
   "cell_type": "markdown",
   "metadata": {},
   "source": [
    "# Forecasting (40 marks) "
   ]
  },
  {
   "cell_type": "markdown",
   "metadata": {},
   "source": [
    "## Tasks \n",
    "The \"temperatureHigh\" and \"time\" data from the weather dataset should be used for analysis. The \"energy_sum\" and \"day\" data from the energy dataset should be used for analysis. \n",
    "Ensure that there is only one row for a given date. \n",
    "1. Identify any trends in the datasets and discuss if trends in weather are related to trends in energy consumption. \n",
    "\n",
    "2. Identify Seasonal patterns in the datasets and discuss if seasonality in weather are related to seasonality in energy consumption. \n",
    "\n",
    "3. Forecast using simple exponential smoothing the expected temperature for 2014, use the RMS metric to indicate the accuracy of your forecast. \n",
    "    - Choose the alpha that results in the lowest RMS \n",
    "    - Plot a graph showing the actual value and the forecasted values \n",
    "    \n",
    "4.\tForecast using simple exponential smoothing the expected energy consumption for 2014, use the RMS metric to indicate the accuracy of your forecast. \n",
    "    - Choose the alpha that results in the lowest RMS \n",
    "\t- Plot a graph showing the actual value and the forecasted values \n",
    "\n",
    "5.\tCombine the initial datasets using an appropriate column as the index. Indicate why you chose that index. \n",
    "\n",
    "6.\tPlot separate graphs showing the \"temperatureHigh\" and \"energy_sum\" data from the combined dataset. \n",
    "\n",
    "7.\tDiscuss what observations can be made from the plot with the combined data vs the plots from the individual datasets. \n"
   ]
  },
  {
   "cell_type": "code",
   "execution_count": null,
   "metadata": {},
   "outputs": [],
   "source": []
  }
 ],
 "metadata": {
  "kernelspec": {
   "display_name": "Python 3",
   "language": "python",
   "name": "python3"
  },
  "language_info": {
   "codemirror_mode": {
    "name": "ipython",
    "version": 3
   },
   "file_extension": ".py",
   "mimetype": "text/x-python",
   "name": "python",
   "nbconvert_exporter": "python",
   "pygments_lexer": "ipython3",
   "version": "3.7.6"
  }
 },
 "nbformat": 4,
 "nbformat_minor": 4
}
