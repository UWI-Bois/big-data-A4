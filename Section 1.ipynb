{
 "cells": [
  {
   "cell_type": "markdown",
   "metadata": {},
   "source": [
    "## ID : 816000325\n",
    "## Name: Ajay Sieunarine\n",
    "## Email: ajay.sieunarine@my.uwi.edu\n",
    "## Repo: https://github.com/jefroy/big-data-A4"
   ]
  },
  {
   "cell_type": "code",
   "execution_count": 1,
   "metadata": {},
   "outputs": [
    {
     "name": "stderr",
     "output_type": "stream",
     "text": [
      "[nltk_data] Downloading package stopwords to\n",
      "[nltk_data]     C:\\Users\\idisc\\AppData\\Roaming\\nltk_data...\n",
      "[nltk_data]   Package stopwords is already up-to-date!\n",
      "[nltk_data] Downloading package wordnet to\n",
      "[nltk_data]     C:\\Users\\idisc\\AppData\\Roaming\\nltk_data...\n",
      "[nltk_data]   Package wordnet is already up-to-date!\n"
     ]
    }
   ],
   "source": [
    "# math and graph stuff\n",
    "import pandas as pd\n",
    "import numpy as np\n",
    "import matplotlib.pyplot as plt\n",
    "import seaborn as sns\n",
    "\n",
    "# text analysis stuff\n",
    "import nltk\n",
    "nltk.download('stopwords')\n",
    "nltk.download('wordnet')\n",
    "import string\n",
    "from nltk import ngrams\n",
    "from sklearn.feature_extraction.text import CountVectorizer\n",
    "from sklearn.feature_extraction.text import TfidfVectorizer\n",
    "from nltk.corpus import stopwords\n",
    "from nltk.stem import WordNetLemmatizer\n",
    "from nltk.stem.porter import PorterStemmer\n",
    "from string import punctuation\n",
    "\n",
    "# ML stuff\n",
    "from sklearn.linear_model import LogisticRegression\n",
    "from sklearn.svm import LinearSVC\n",
    "from sklearn.model_selection import train_test_split\n",
    "from sklearn.metrics import recall_score, f1_score, accuracy_score, precision_score\n",
    "from sklearn import svm\n",
    "from sklearn.decomposition import NMF, LatentDirichletAllocation, TruncatedSVD\n",
    "\n",
    "# utility stuff\n",
    "from sklearn.utils import shuffle\n",
    "from itertools import chain\n",
    "from sklearn.preprocessing import LabelEncoder\n",
    "\n",
    "# more graph stuff\n",
    "%matplotlib inline\n",
    "plt.style.use('dark_background') # turn off for light theme\n",
    "plt.rcParams[\"figure.figsize\"] = (8, 4)\n",
    "plt.rcParams[\"xtick.labelsize\"] = 7\n",
    "\n",
    "import warnings\n",
    "warnings.filterwarnings(\"ignore\", category=FutureWarning)\n",
    "\n",
    "sep = '============================================================================================'"
   ]
  },
  {
   "cell_type": "markdown",
   "metadata": {},
   "source": [
    "# Warm Up (20 marks) "
   ]
  },
  {
   "cell_type": "code",
   "execution_count": 2,
   "metadata": {},
   "outputs": [
    {
     "name": "stdout",
     "output_type": "stream",
     "text": [
      "<class 'numpy.ndarray'>\n",
      "[[2 0 2]\n",
      " [2 2 0]\n",
      " [2 4 0]\n",
      " [0 4 2]\n",
      " [1 4 1]]\n"
     ]
    }
   ],
   "source": [
    "# documents/sentences\n",
    "corpus = [ \n",
    "    'Apple Orange Orange Apple',\n",
    "    'Apple Banana Apple Banana',\n",
    "    'Banana Apple Banana Banana Banana Apple',\n",
    "    'Banana Orange Banana Banana Orange Banana',\n",
    "    'Banana Apple Banana Banana Orange Banana'\n",
    "]\n",
    "\n",
    "def corp2vec(corpus):\n",
    "    '''\n",
    "    This function converts a document to a vector showing its term frequencies.\n",
    "    Each column represents a term in the corpus. (in this case, there are 3 terms).\n",
    "    Uses CountVectorizer() as a model.\n",
    "    '''\n",
    "    tf_vectorizer = CountVectorizer() # model\n",
    "    tf = tf_vectorizer.fit_transform(corpus) # get term frequencies\n",
    "    return tf.A # return the array representation\n",
    "\n",
    "print(type(corp2vec(corpus)))\n",
    "print(corp2vec(corpus))"
   ]
  },
  {
   "cell_type": "markdown",
   "metadata": {},
   "source": [
    "# Preprocessing and Data Organization (20 marks) "
   ]
  },
  {
   "cell_type": "code",
   "execution_count": 3,
   "metadata": {
    "scrolled": true
   },
   "outputs": [
    {
     "name": "stdout",
     "output_type": "stream",
     "text": [
      "(10, 9)\n"
     ]
    },
    {
     "data": {
      "text/html": [
       "<div>\n",
       "<style scoped>\n",
       "    .dataframe tbody tr th:only-of-type {\n",
       "        vertical-align: middle;\n",
       "    }\n",
       "\n",
       "    .dataframe tbody tr th {\n",
       "        vertical-align: top;\n",
       "    }\n",
       "\n",
       "    .dataframe thead th {\n",
       "        text-align: right;\n",
       "    }\n",
       "</style>\n",
       "<table border=\"1\" class=\"dataframe\">\n",
       "  <thead>\n",
       "    <tr style=\"text-align: right;\">\n",
       "      <th></th>\n",
       "      <th>id</th>\n",
       "      <th>playlist</th>\n",
       "      <th>upload_date</th>\n",
       "      <th>title</th>\n",
       "      <th>view_count</th>\n",
       "      <th>average_rating</th>\n",
       "      <th>like_count</th>\n",
       "      <th>dislike_count</th>\n",
       "      <th>subtitles</th>\n",
       "    </tr>\n",
       "  </thead>\n",
       "  <tbody>\n",
       "    <tr>\n",
       "      <th>0</th>\n",
       "      <td>-2WTNSujhjk</td>\n",
       "      <td>Donald Trump Speeches &amp; Events</td>\n",
       "      <td>20160220</td>\n",
       "      <td>Live Stream: Donald Trump Victory Rally in Spa...</td>\n",
       "      <td>4057.0</td>\n",
       "      <td>4.259259</td>\n",
       "      <td>44.0</td>\n",
       "      <td>10.0</td>\n",
       "      <td>presidents of the United States mr. go   tr...</td>\n",
       "    </tr>\n",
       "    <tr>\n",
       "      <th>1</th>\n",
       "      <td>-64nfy6i58w</td>\n",
       "      <td>Donald Trump Speeches &amp; Events</td>\n",
       "      <td>20161107</td>\n",
       "      <td>LAST RALLY: Donald Trump FINAL CAMPAIGN Rally ...</td>\n",
       "      <td>47276.0</td>\n",
       "      <td>4.358025</td>\n",
       "      <td>952.0</td>\n",
       "      <td>182.0</td>\n",
       "      <td>it's now officially Tuesday November a   di...</td>\n",
       "    </tr>\n",
       "    <tr>\n",
       "      <th>2</th>\n",
       "      <td>-7Sp31hTxkU</td>\n",
       "      <td>Donald Trump Speeches &amp; Events</td>\n",
       "      <td>20160423</td>\n",
       "      <td>FULL SPEECH: Donald Trump Rally in Bridgeport,...</td>\n",
       "      <td>19966.0</td>\n",
       "      <td>4.666667</td>\n",
       "      <td>220.0</td>\n",
       "      <td>20.0</td>\n",
       "      <td>you   [Music]   [Music]   [Music]   you   I...</td>\n",
       "    </tr>\n",
       "    <tr>\n",
       "      <th>3</th>\n",
       "      <td>-byuyavcNI4</td>\n",
       "      <td>Donald Trump Speeches &amp; Events</td>\n",
       "      <td>20160617</td>\n",
       "      <td>Full Speech: Donald Trump Rally in Houston, Te...</td>\n",
       "      <td>15138.0</td>\n",
       "      <td>4.582491</td>\n",
       "      <td>266.0</td>\n",
       "      <td>31.0</td>\n",
       "      <td>we welcome stars and president   [Music]   ...</td>\n",
       "    </tr>\n",
       "    <tr>\n",
       "      <th>4</th>\n",
       "      <td>09BXh-AA72M</td>\n",
       "      <td>Donald Trump Speeches &amp; Events</td>\n",
       "      <td>20161105</td>\n",
       "      <td>Full Speech: Donald Trump Rally in Denver, Col...</td>\n",
       "      <td>8720.0</td>\n",
       "      <td>4.924731</td>\n",
       "      <td>365.0</td>\n",
       "      <td>7.0</td>\n",
       "      <td>you   thank you   [Music]   great people Gr...</td>\n",
       "    </tr>\n",
       "  </tbody>\n",
       "</table>\n",
       "</div>"
      ],
      "text/plain": [
       "            id                        playlist  upload_date  \\\n",
       "0  -2WTNSujhjk  Donald Trump Speeches & Events     20160220   \n",
       "1  -64nfy6i58w  Donald Trump Speeches & Events     20161107   \n",
       "2  -7Sp31hTxkU  Donald Trump Speeches & Events     20160423   \n",
       "3  -byuyavcNI4  Donald Trump Speeches & Events     20160617   \n",
       "4  09BXh-AA72M  Donald Trump Speeches & Events     20161105   \n",
       "\n",
       "                                               title  view_count  \\\n",
       "0  Live Stream: Donald Trump Victory Rally in Spa...      4057.0   \n",
       "1  LAST RALLY: Donald Trump FINAL CAMPAIGN Rally ...     47276.0   \n",
       "2  FULL SPEECH: Donald Trump Rally in Bridgeport,...     19966.0   \n",
       "3  Full Speech: Donald Trump Rally in Houston, Te...     15138.0   \n",
       "4  Full Speech: Donald Trump Rally in Denver, Col...      8720.0   \n",
       "\n",
       "   average_rating  like_count  dislike_count  \\\n",
       "0        4.259259        44.0           10.0   \n",
       "1        4.358025       952.0          182.0   \n",
       "2        4.666667       220.0           20.0   \n",
       "3        4.582491       266.0           31.0   \n",
       "4        4.924731       365.0            7.0   \n",
       "\n",
       "                                           subtitles  \n",
       "0     presidents of the United States mr. go   tr...  \n",
       "1     it's now officially Tuesday November a   di...  \n",
       "2     you   [Music]   [Music]   [Music]   you   I...  \n",
       "3     we welcome stars and president   [Music]   ...  \n",
       "4     you   thank you   [Music]   great people Gr...  "
      ]
     },
     "execution_count": 3,
     "metadata": {},
     "output_type": "execute_result"
    }
   ],
   "source": [
    "df = pd.read_csv('MrTrumpSpeeches.csv', sep='~', encoding=\"ISO-8859-1\")\n",
    "\n",
    "# remove this line please\n",
    "df = df[:10]\n",
    "\n",
    "print(df.shape)\n",
    "df.head()"
   ]
  },
  {
   "cell_type": "code",
   "execution_count": 4,
   "metadata": {},
   "outputs": [
    {
     "data": {
      "text/plain": [
       "id                 object\n",
       "playlist           object\n",
       "upload_date         int64\n",
       "title              object\n",
       "view_count        float64\n",
       "average_rating    float64\n",
       "like_count        float64\n",
       "dislike_count     float64\n",
       "subtitles          object\n",
       "dtype: object"
      ]
     },
     "execution_count": 4,
     "metadata": {},
     "output_type": "execute_result"
    }
   ],
   "source": [
    "df.dtypes"
   ]
  },
  {
   "cell_type": "markdown",
   "metadata": {},
   "source": [
    "## Task 1: \n",
    "Create a new column in the dataframe called 'sentiment'. Using appropriate existing columns, populate the new column with 0's and 1's where 0 refers to a negative sentiment and 1 refers to a positive sentiment. \n",
    "\n",
    "- using the `average_rating` column, find the average score\n",
    "    * ratings above or equal to this average are denoted by sentiment = 1\n",
    "    * ratings under this average are denoted by sentiment = 0"
   ]
  },
  {
   "cell_type": "code",
   "execution_count": 5,
   "metadata": {},
   "outputs": [
    {
     "name": "stdout",
     "output_type": "stream",
     "text": [
      "4.92473125458\n",
      "4.25925922394\n",
      "4.59199523926\n"
     ]
    }
   ],
   "source": [
    "# find the avg/mid score possible:\n",
    "max_score = max(df['average_rating'])\n",
    "min_score = min(df['average_rating'])\n",
    "avg_score = (max_score + min_score) / 2\n",
    "print(max_score)\n",
    "print(min_score)\n",
    "print(avg_score)"
   ]
  },
  {
   "cell_type": "code",
   "execution_count": 6,
   "metadata": {},
   "outputs": [
    {
     "name": "stdout",
     "output_type": "stream",
     "text": [
      "[0 1]\n",
      "============================================================================================\n",
      "count    10.000000\n",
      "mean      0.400000\n",
      "std       0.516398\n",
      "min       0.000000\n",
      "25%       0.000000\n",
      "50%       0.000000\n",
      "75%       1.000000\n",
      "max       1.000000\n",
      "Name: sentiment, dtype: float64\n",
      "============================================================================================\n"
     ]
    },
    {
     "data": {
      "text/html": [
       "<div>\n",
       "<style scoped>\n",
       "    .dataframe tbody tr th:only-of-type {\n",
       "        vertical-align: middle;\n",
       "    }\n",
       "\n",
       "    .dataframe tbody tr th {\n",
       "        vertical-align: top;\n",
       "    }\n",
       "\n",
       "    .dataframe thead th {\n",
       "        text-align: right;\n",
       "    }\n",
       "</style>\n",
       "<table border=\"1\" class=\"dataframe\">\n",
       "  <thead>\n",
       "    <tr style=\"text-align: right;\">\n",
       "      <th></th>\n",
       "      <th>id</th>\n",
       "      <th>playlist</th>\n",
       "      <th>upload_date</th>\n",
       "      <th>title</th>\n",
       "      <th>view_count</th>\n",
       "      <th>average_rating</th>\n",
       "      <th>like_count</th>\n",
       "      <th>dislike_count</th>\n",
       "      <th>subtitles</th>\n",
       "      <th>sentiment</th>\n",
       "    </tr>\n",
       "  </thead>\n",
       "  <tbody>\n",
       "    <tr>\n",
       "      <th>0</th>\n",
       "      <td>-2WTNSujhjk</td>\n",
       "      <td>Donald Trump Speeches &amp; Events</td>\n",
       "      <td>20160220</td>\n",
       "      <td>Live Stream: Donald Trump Victory Rally in Spa...</td>\n",
       "      <td>4057.0</td>\n",
       "      <td>4.259259</td>\n",
       "      <td>44.0</td>\n",
       "      <td>10.0</td>\n",
       "      <td>presidents of the United States mr. go   tr...</td>\n",
       "      <td>0</td>\n",
       "    </tr>\n",
       "    <tr>\n",
       "      <th>1</th>\n",
       "      <td>-64nfy6i58w</td>\n",
       "      <td>Donald Trump Speeches &amp; Events</td>\n",
       "      <td>20161107</td>\n",
       "      <td>LAST RALLY: Donald Trump FINAL CAMPAIGN Rally ...</td>\n",
       "      <td>47276.0</td>\n",
       "      <td>4.358025</td>\n",
       "      <td>952.0</td>\n",
       "      <td>182.0</td>\n",
       "      <td>it's now officially Tuesday November a   di...</td>\n",
       "      <td>0</td>\n",
       "    </tr>\n",
       "    <tr>\n",
       "      <th>2</th>\n",
       "      <td>-7Sp31hTxkU</td>\n",
       "      <td>Donald Trump Speeches &amp; Events</td>\n",
       "      <td>20160423</td>\n",
       "      <td>FULL SPEECH: Donald Trump Rally in Bridgeport,...</td>\n",
       "      <td>19966.0</td>\n",
       "      <td>4.666667</td>\n",
       "      <td>220.0</td>\n",
       "      <td>20.0</td>\n",
       "      <td>you   [Music]   [Music]   [Music]   you   I...</td>\n",
       "      <td>1</td>\n",
       "    </tr>\n",
       "    <tr>\n",
       "      <th>3</th>\n",
       "      <td>-byuyavcNI4</td>\n",
       "      <td>Donald Trump Speeches &amp; Events</td>\n",
       "      <td>20160617</td>\n",
       "      <td>Full Speech: Donald Trump Rally in Houston, Te...</td>\n",
       "      <td>15138.0</td>\n",
       "      <td>4.582491</td>\n",
       "      <td>266.0</td>\n",
       "      <td>31.0</td>\n",
       "      <td>we welcome stars and president   [Music]   ...</td>\n",
       "      <td>0</td>\n",
       "    </tr>\n",
       "    <tr>\n",
       "      <th>4</th>\n",
       "      <td>09BXh-AA72M</td>\n",
       "      <td>Donald Trump Speeches &amp; Events</td>\n",
       "      <td>20161105</td>\n",
       "      <td>Full Speech: Donald Trump Rally in Denver, Col...</td>\n",
       "      <td>8720.0</td>\n",
       "      <td>4.924731</td>\n",
       "      <td>365.0</td>\n",
       "      <td>7.0</td>\n",
       "      <td>you   thank you   [Music]   great people Gr...</td>\n",
       "      <td>1</td>\n",
       "    </tr>\n",
       "  </tbody>\n",
       "</table>\n",
       "</div>"
      ],
      "text/plain": [
       "            id                        playlist  upload_date  \\\n",
       "0  -2WTNSujhjk  Donald Trump Speeches & Events     20160220   \n",
       "1  -64nfy6i58w  Donald Trump Speeches & Events     20161107   \n",
       "2  -7Sp31hTxkU  Donald Trump Speeches & Events     20160423   \n",
       "3  -byuyavcNI4  Donald Trump Speeches & Events     20160617   \n",
       "4  09BXh-AA72M  Donald Trump Speeches & Events     20161105   \n",
       "\n",
       "                                               title  view_count  \\\n",
       "0  Live Stream: Donald Trump Victory Rally in Spa...      4057.0   \n",
       "1  LAST RALLY: Donald Trump FINAL CAMPAIGN Rally ...     47276.0   \n",
       "2  FULL SPEECH: Donald Trump Rally in Bridgeport,...     19966.0   \n",
       "3  Full Speech: Donald Trump Rally in Houston, Te...     15138.0   \n",
       "4  Full Speech: Donald Trump Rally in Denver, Col...      8720.0   \n",
       "\n",
       "   average_rating  like_count  dislike_count  \\\n",
       "0        4.259259        44.0           10.0   \n",
       "1        4.358025       952.0          182.0   \n",
       "2        4.666667       220.0           20.0   \n",
       "3        4.582491       266.0           31.0   \n",
       "4        4.924731       365.0            7.0   \n",
       "\n",
       "                                           subtitles  sentiment  \n",
       "0     presidents of the United States mr. go   tr...          0  \n",
       "1     it's now officially Tuesday November a   di...          0  \n",
       "2     you   [Music]   [Music]   [Music]   you   I...          1  \n",
       "3     we welcome stars and president   [Music]   ...          0  \n",
       "4     you   thank you   [Music]   great people Gr...          1  "
      ]
     },
     "execution_count": 6,
     "metadata": {},
     "output_type": "execute_result"
    }
   ],
   "source": [
    "def pruneRating(x):\n",
    "    '''\n",
    "    utility function for lambda\n",
    "    returns 1 for good/avg rating\n",
    "    returns 0 for bad rating\n",
    "    '''\n",
    "    if x >= avg_score:\n",
    "        return 1\n",
    "    if x < avg_score:\n",
    "        return 0\n",
    "\n",
    "df['sentiment'] = df['average_rating'].apply(\n",
    "    lambda x: pruneRating(x)\n",
    ")\n",
    "\n",
    "enc3 = LabelEncoder()\n",
    "enc3.fit(df['sentiment'])\n",
    "\n",
    "print(enc3.classes_)\n",
    "print(sep)\n",
    "print(df['sentiment'].describe()) \n",
    "print(sep)\n",
    "df.head()"
   ]
  },
  {
   "cell_type": "markdown",
   "metadata": {},
   "source": [
    "## Task 2\n",
    "- Clean the subtitles data and store the cleaned text in a new column 'subtitle_clean'.\n",
    "    * For each step of your text cleaning give a brief explanation of why you chose to perform that method on the text. "
   ]
  },
  {
   "cell_type": "code",
   "execution_count": 7,
   "metadata": {},
   "outputs": [
    {
     "data": {
      "text/html": [
       "<div>\n",
       "<style scoped>\n",
       "    .dataframe tbody tr th:only-of-type {\n",
       "        vertical-align: middle;\n",
       "    }\n",
       "\n",
       "    .dataframe tbody tr th {\n",
       "        vertical-align: top;\n",
       "    }\n",
       "\n",
       "    .dataframe thead th {\n",
       "        text-align: right;\n",
       "    }\n",
       "</style>\n",
       "<table border=\"1\" class=\"dataframe\">\n",
       "  <thead>\n",
       "    <tr style=\"text-align: right;\">\n",
       "      <th></th>\n",
       "      <th>id</th>\n",
       "      <th>playlist</th>\n",
       "      <th>upload_date</th>\n",
       "      <th>title</th>\n",
       "      <th>view_count</th>\n",
       "      <th>average_rating</th>\n",
       "      <th>like_count</th>\n",
       "      <th>dislike_count</th>\n",
       "      <th>subtitles</th>\n",
       "      <th>sentiment</th>\n",
       "      <th>subtitle_clean</th>\n",
       "    </tr>\n",
       "  </thead>\n",
       "  <tbody>\n",
       "    <tr>\n",
       "      <th>0</th>\n",
       "      <td>-2WTNSujhjk</td>\n",
       "      <td>Donald Trump Speeches &amp; Events</td>\n",
       "      <td>20160220</td>\n",
       "      <td>Live Stream: Donald Trump Victory Rally in Spa...</td>\n",
       "      <td>4057.0</td>\n",
       "      <td>4.259259</td>\n",
       "      <td>44.0</td>\n",
       "      <td>10.0</td>\n",
       "      <td>presidents of the United States mr. go   tr...</td>\n",
       "      <td>0</td>\n",
       "      <td>presid unit state mr go trapp famili thank app...</td>\n",
       "    </tr>\n",
       "    <tr>\n",
       "      <th>1</th>\n",
       "      <td>-64nfy6i58w</td>\n",
       "      <td>Donald Trump Speeches &amp; Events</td>\n",
       "      <td>20161107</td>\n",
       "      <td>LAST RALLY: Donald Trump FINAL CAMPAIGN Rally ...</td>\n",
       "      <td>47276.0</td>\n",
       "      <td>4.358025</td>\n",
       "      <td>952.0</td>\n",
       "      <td>182.0</td>\n",
       "      <td>it's now officially Tuesday November a   di...</td>\n",
       "      <td>0</td>\n",
       "      <td>offici tuesday novemb ever think youd hear maj...</td>\n",
       "    </tr>\n",
       "    <tr>\n",
       "      <th>2</th>\n",
       "      <td>-7Sp31hTxkU</td>\n",
       "      <td>Donald Trump Speeches &amp; Events</td>\n",
       "      <td>20160423</td>\n",
       "      <td>FULL SPEECH: Donald Trump Rally in Bridgeport,...</td>\n",
       "      <td>19966.0</td>\n",
       "      <td>4.666667</td>\n",
       "      <td>220.0</td>\n",
       "      <td>20.0</td>\n",
       "      <td>you   [Music]   [Music]   [Music]   you   I...</td>\n",
       "      <td>1</td>\n",
       "      <td>music music music great countri leader free un...</td>\n",
       "    </tr>\n",
       "    <tr>\n",
       "      <th>3</th>\n",
       "      <td>-byuyavcNI4</td>\n",
       "      <td>Donald Trump Speeches &amp; Events</td>\n",
       "      <td>20160617</td>\n",
       "      <td>Full Speech: Donald Trump Rally in Houston, Te...</td>\n",
       "      <td>15138.0</td>\n",
       "      <td>4.582491</td>\n",
       "      <td>266.0</td>\n",
       "      <td>31.0</td>\n",
       "      <td>we welcome stars and president   [Music]   ...</td>\n",
       "      <td>0</td>\n",
       "      <td>welcom star presid music place live place wow ...</td>\n",
       "    </tr>\n",
       "    <tr>\n",
       "      <th>4</th>\n",
       "      <td>09BXh-AA72M</td>\n",
       "      <td>Donald Trump Speeches &amp; Events</td>\n",
       "      <td>20161105</td>\n",
       "      <td>Full Speech: Donald Trump Rally in Denver, Col...</td>\n",
       "      <td>8720.0</td>\n",
       "      <td>4.924731</td>\n",
       "      <td>365.0</td>\n",
       "      <td>7.0</td>\n",
       "      <td>you   thank you   [Music]   great people Gr...</td>\n",
       "      <td>1</td>\n",
       "      <td>thank music great peopl granna three day go wi...</td>\n",
       "    </tr>\n",
       "  </tbody>\n",
       "</table>\n",
       "</div>"
      ],
      "text/plain": [
       "            id                        playlist  upload_date  \\\n",
       "0  -2WTNSujhjk  Donald Trump Speeches & Events     20160220   \n",
       "1  -64nfy6i58w  Donald Trump Speeches & Events     20161107   \n",
       "2  -7Sp31hTxkU  Donald Trump Speeches & Events     20160423   \n",
       "3  -byuyavcNI4  Donald Trump Speeches & Events     20160617   \n",
       "4  09BXh-AA72M  Donald Trump Speeches & Events     20161105   \n",
       "\n",
       "                                               title  view_count  \\\n",
       "0  Live Stream: Donald Trump Victory Rally in Spa...      4057.0   \n",
       "1  LAST RALLY: Donald Trump FINAL CAMPAIGN Rally ...     47276.0   \n",
       "2  FULL SPEECH: Donald Trump Rally in Bridgeport,...     19966.0   \n",
       "3  Full Speech: Donald Trump Rally in Houston, Te...     15138.0   \n",
       "4  Full Speech: Donald Trump Rally in Denver, Col...      8720.0   \n",
       "\n",
       "   average_rating  like_count  dislike_count  \\\n",
       "0        4.259259        44.0           10.0   \n",
       "1        4.358025       952.0          182.0   \n",
       "2        4.666667       220.0           20.0   \n",
       "3        4.582491       266.0           31.0   \n",
       "4        4.924731       365.0            7.0   \n",
       "\n",
       "                                           subtitles  sentiment  \\\n",
       "0     presidents of the United States mr. go   tr...          0   \n",
       "1     it's now officially Tuesday November a   di...          0   \n",
       "2     you   [Music]   [Music]   [Music]   you   I...          1   \n",
       "3     we welcome stars and president   [Music]   ...          0   \n",
       "4     you   thank you   [Music]   great people Gr...          1   \n",
       "\n",
       "                                      subtitle_clean  \n",
       "0  presid unit state mr go trapp famili thank app...  \n",
       "1  offici tuesday novemb ever think youd hear maj...  \n",
       "2  music music music great countri leader free un...  \n",
       "3  welcom star presid music place live place wow ...  \n",
       "4  thank music great peopl granna three day go wi...  "
      ]
     },
     "execution_count": 7,
     "metadata": {},
     "output_type": "execute_result"
    }
   ],
   "source": [
    "# this block of code will take a little while to process since the text is being thoroughly cleaned.\n",
    "wnl = WordNetLemmatizer()\n",
    "porter = PorterStemmer()\n",
    "def text_process(mess):\n",
    "    \"\"\"\n",
    "    Takes in a string of text, then performs the following:\n",
    "    1. Remove all punctuation.\n",
    "    2. Remove all stopwords.\n",
    "    4. Convert all remaining words to lowercase.\n",
    "        - if the string has numbers in it, discard it.\n",
    "    5. Lemmatize.\n",
    "    6. Convert to the stem of the word.\n",
    "    7. Returns a list of the cleaned text.\n",
    "    \"\"\"\n",
    "    # Check characters to see if they are in punctuation\n",
    "    nopunc = [char for char in mess if char not in string.punctuation]\n",
    "\n",
    "    # Join the characters again to form the string.\n",
    "    nopunc = ''.join(nopunc)\n",
    "    \n",
    "    # Now just remove any stopwords\n",
    "    words = [word for word in nopunc.split() if word.lower() not in stopwords.words('english')]\n",
    "    \n",
    "    # convert all words to lowercase and lemmatize and stem\n",
    "    \n",
    "    arr = []\n",
    "    for word in words:\n",
    "        word = word.lower()\n",
    "        word = porter.stem(word)\n",
    "        word = wnl.lemmatize(word)\n",
    "        if word.isalpha():\n",
    "            word += ' '\n",
    "            arr.append(word)\n",
    "        \n",
    "    arr = ''.join(arr) # convert the array of words/tokens into a string\n",
    "#     print(arr,sep)\n",
    "    if len(arr) > 0:\n",
    "        return arr\n",
    "    else:\n",
    "        return \"smeckledorf\" # if the entire subtitle had no words in it.\n",
    "\n",
    "def test_text_process():\n",
    "    '''\n",
    "    function to hold some test cases to ensure the lambda function does its job\n",
    "    '''\n",
    "    print(\n",
    "        'Test stopwords and lowercase:\\nHI I AM A STOPWORD = ', \n",
    "        text_process(\"HI I AM A STOPWORD\")\n",
    "    )\n",
    "    print(sep)\n",
    "    print(\n",
    "        'Test Stemming words and removing punctuation:\\nfishing, fisher, fished = ', \n",
    "        text_process(\"fishing, fisher , fished\")\n",
    "    )\n",
    "\n",
    "def pruneSubtitle(x):\n",
    "    '''\n",
    "    utility function for lambda\n",
    "    x - string from `subtitles` col\n",
    "    '''\n",
    "    return text_process(x)\n",
    "\n",
    "# test_text_process()\n",
    "\n",
    "df['subtitle_clean'] = df['subtitles'].apply(\n",
    "    lambda x: pruneSubtitle(x)\n",
    ")\n",
    "\n",
    "df.head()"
   ]
  },
  {
   "cell_type": "markdown",
   "metadata": {},
   "source": [
    "I chose to Lemmatize AND Stem each word since the amount of text being processed is very large, and this will also allow the models to get better results."
   ]
  },
  {
   "cell_type": "markdown",
   "metadata": {},
   "source": [
    "## Task 3\n",
    "Use TFIDFVectorizer and CountVectorizer to encode the cleaned subtitles. "
   ]
  },
  {
   "cell_type": "code",
   "execution_count": 8,
   "metadata": {
    "scrolled": true
   },
   "outputs": [
    {
     "name": "stdout",
     "output_type": "stream",
     "text": [
      "<class 'list'>\n",
      "============================================================================================\n",
      "10\n"
     ]
    }
   ],
   "source": [
    "# # define the data to use\n",
    "clean_subs = list(df['subtitle_clean']) \n",
    "# clean_subs = list(df['subtitle_clean']) # this line might be crashing the file \n",
    "# # clean_subs = df['subtitle_clean'].values # kinda pointless, parsing as list() is neater\n",
    "# # jupyter might require more memory to run this\n",
    "\n",
    "print(type(clean_subs))\n",
    "print(sep)\n",
    "print(len(clean_subs))"
   ]
  },
  {
   "cell_type": "code",
   "execution_count": 9,
   "metadata": {},
   "outputs": [
    {
     "name": "stdout",
     "output_type": "stream",
     "text": [
      "CountVectorizer:\n",
      "  (0, 1948)\t3\n",
      "  (0, 2703)\t2\n",
      "  (0, 2414)\t4\n",
      "  (0, 1675)\t2\n",
      "  (0, 1073)\t62\n",
      "  (0, 2638)\t1\n",
      "  (0, 911)\t6\n",
      "  (0, 2550)\t16\n",
      "  (0, 113)\t7\n",
      "  (0, 1681)\t6\n",
      "  (0, 862)\t3\n",
      "  (0, 2809)\t9\n",
      "  (0, 2784)\t16\n",
      "  (0, 215)\t2\n",
      "  (0, 1858)\t24\n",
      "  (0, 2376)\t7\n",
      "  (0, 381)\t7\n",
      "  (0, 2384)\t5\n",
      "  (0, 1427)\t10\n",
      "  (0, 1060)\t11\n",
      "  (0, 1504)\t1\n",
      "  (0, 286)\t1\n",
      "  (0, 1451)\t3\n",
      "  (0, 2802)\t3\n",
      "  (0, 1892)\t3\n",
      "  :\t:\n",
      "  (9, 38)\t1\n",
      "  (9, 1956)\t1\n",
      "  (9, 2077)\t1\n",
      "  (9, 558)\t1\n",
      "  (9, 2678)\t1\n",
      "  (9, 2405)\t1\n",
      "  (9, 1273)\t1\n",
      "  (9, 1446)\t1\n",
      "  (9, 2135)\t1\n",
      "  (9, 1708)\t1\n",
      "  (9, 1002)\t1\n",
      "  (9, 941)\t1\n",
      "  (9, 1218)\t1\n",
      "  (9, 182)\t1\n",
      "  (9, 1376)\t1\n",
      "  (9, 2139)\t1\n",
      "  (9, 2637)\t1\n",
      "  (9, 1303)\t1\n",
      "  (9, 1199)\t1\n",
      "  (9, 1536)\t1\n",
      "  (9, 1437)\t1\n",
      "  (9, 2133)\t1\n",
      "  (9, 2744)\t1\n",
      "  (9, 964)\t1\n",
      "  (9, 76)\t1\n",
      "============================================================================================\n",
      "['abandon', 'abat', 'abl', 'abolish', 'absolut', 'abus', 'academi', 'accessori', 'accid', 'accomplish', 'accord', 'account', 'accus', 'achiev', 'acknowledg', 'acquit', 'across', 'act', 'action', 'activ', 'actual', 'acumen', 'ad', 'add', 'addict', 'addit', 'address', 'adelson', 'administr', 'admir', 'admiss', 'admit', 'advantag', 'adventur', 'advil', 'aeroplan', 'affect', 'afford', 'afghanistan', 'african', 'africanamerican', 'afternoon', 'age', 'agenda', 'agent', 'aggress', 'agn', 'ago', 'agre', 'agreement', 'ah', 'ahead', 'aid', 'ailment', 'air', 'aircondit', 'airplan', 'airport', 'al', 'alabama', 'alb', 'albani', 'alderaan', 'alien', 'aliv', 'allegra', 'alli', 'allow', 'allspanish', 'alltim', 'almost', 'along', 'alreadi', 'also', 'altern', 'although', 'altogeth', 'alway', 'amaz', 'ambush', 'amend', 'america', 'american', 'among', 'amount', 'anchor', 'anderson', 'angan', 'angel', 'angelo', 'angri', 'anim', 'ankl', 'anniversari', 'announc', 'annual', 'anonym', 'anoth', 'answer', 'ant', 'anthoni', 'antonio', 'anybodi', 'anymor', 'anyon', 'anyth', 'anytim', 'anyway', 'anywher', 'apart', 'apolog', 'app', 'appl', 'applaus', 'appli', 'appoint', 'appreci', 'approach', 'approv', 'arabia', 'architect', 'area', 'arena', 'arent', 'argu', 'arizona', 'arm', 'aros', 'around', 'arpaio', 'arrest', 'arriv', 'arrog', 'articl', 'asap', 'ash', 'asham', 'asid', 'ask', 'asleep', 'ass', 'assassin', 'assault', 'asset', 'associ', 'assum', 'assur', 'asylum', 'atheist', 'atlanta', 'attack', 'attitud', 'attorney', 'auburn', 'audienc', 'audio', 'aurora', 'auspic', 'author', 'auto', 'automobil', 'automot', 'averag', 'award', 'away', 'awesom', 'axe', 'ba', 'baba', 'babi', 'back', 'backer', 'background', 'bad', 'badli', 'bahama', 'bake', 'balanc', 'ball', 'ballgam', 'ballot', 'ballroom', 'baltimor', 'bandwagon', 'bangladesh', 'banjo', 'bank', 'bankrupt', 'baptism', 'bar', 'barack', 'baraka', 'barrier', 'base', 'basebal', 'basi', 'basic', 'basketbal', 'bat', 'batteri', 'bay', 'be', 'beach', 'bead', 'bear', 'beat', 'beaten', 'beauti', 'becam', 'becom', 'bed', 'bedford', 'beef', 'beg', 'began', 'begin', 'behalf', 'behav', 'behemoth', 'behind', 'beij', 'belichick', 'believ', 'bell', 'bella', 'belong', 'ben', 'benarje', 'beneficiari', 'benefit', 'benghazi', 'bent', 'beresford', 'bernardino', 'berni', 'besid', 'best', 'bet', 'bethpag', 'better', 'beyonc', 'beyond', 'bias', 'bibi', 'bibl', 'big', 'bigger', 'biggest', 'biggi', 'bigleagu', 'bill', 'billi', 'billion', 'bird', 'birdi', 'birthday', 'bishop', 'bit', 'bitch', 'bitin', 'black', 'blame', 'bleach', 'bleed', 'bless', 'blind', 'blinder', 'block', 'blood', 'blow', 'blunt', 'boar', 'board', 'bob', 'bobbi', 'bodi', 'boe', 'bold', 'bomb', 'bomber', 'bon', 'bond', 'bonus', 'boo', 'book', 'boom', 'boost', 'booth', 'border', 'bore', 'born', 'borrow', 'bosal', 'boston', 'bother', 'bottom', 'bought', 'bounc', 'bound', 'bow', 'bowtiqu', 'box', 'boy', 'bracket', 'bradi', 'brag', 'bragg', 'brain', 'branch', 'bread', 'break', 'brent', 'brew', 'brexit', 'brian', 'bribe', 'bridg', 'bridgeport', 'bridgewat', 'bright', 'brilliant', 'brilliantli', 'bring', 'brink', 'brit', 'british', 'broke', 'broken', 'brooklyn', 'brother', 'brought', 'brunt', 'brutal', 'bu', 'buck', 'buckley', 'budget', 'build', 'builder', 'built', 'bullet', 'bulli', 'bunch', 'bunni', 'bureaucrat', 'burglari', 'burn', 'burton', 'bush', 'busi', 'businessman', 'bust', 'butt', 'button', 'buy', 'cabl', 'cage', 'cain', 'california', 'call', 'caller', 'calm', 'calvin', 'came', 'camera', 'camo', 'camp', 'campaign', 'cancel', 'candi', 'candid', 'cannot', 'cant', 'capabl', 'car', 'care', 'career', 'carefus', 'caribbean', 'carl', 'carnag', 'carolina', 'carr', 'carri', 'carrier', 'carson', 'cartel', 'cartwright', 'case', 'cash', 'cast', 'castil', 'castro', 'catastroph', 'catch', 'categori', 'caterpillar', 'cathol', 'caught', 'caus', 'ceil', 'cell', 'center', 'certain', 'certainli', 'chain', 'challeng', 'championship', 'chanc', 'chang', 'chapter', 'charact', 'charg', 'charlen', 'charli', 'charlott', 'charlottesvil', 'cheaper', 'cheapest', 'cheat', 'check', 'cheerlead', 'chemistri', 'cherish', 'cheyenn', 'chicago', 'chief', 'child', 'chill', 'china', 'chine', 'chip', 'choic', 'choke', 'choos', 'chop', 'chri', 'christi', 'christian', 'chrysler', 'chuck', 'church', 'circl', 'circumst', 'citi', 'citizen', 'citizenship', 'civilian', 'class', 'clay', 'clean', 'clear', 'clerk', 'cleveland', 'clin', 'clinton', 'clip', 'clock', 'close', 'closer', 'cloud', 'clue', 'cnn', 'coach', 'coal', 'coast', 'code', 'coffe', 'cold', 'colin', 'collect', 'colleg', 'colorado', 'come', 'comey', 'comfort', 'command', 'comment', 'commerci', 'commi', 'commiss', 'commit', 'committe', 'common', 'commun', 'compani', 'compar', 'compass', 'compet', 'competit', 'competitor', 'compil', 'complain', 'complet', 'complex', 'complic', 'compliment', 'concept', 'concern', 'concert', 'condit', 'condition', 'condo', 'conduct', 'confer', 'confid', 'congratul', 'congress', 'congression', 'congressman', 'connect', 'connecticut', 'consequ', 'conserv', 'consid', 'constitut', 'construct', 'consult', 'continu', 'contra', 'contract', 'contribut', 'control', 'controversi', 'conveni', 'convent', 'convers', 'convict', 'convinc', 'cool', 'cooler', 'cop', 'cope', 'cord', 'core', 'corner', 'correct', 'corros', 'corrupt', 'cost', 'costli', 'could', 'couldnt', 'count', 'counti', 'countless', 'countri', 'coupl', 'courag', 'cours', 'court', 'cousin', 'cover', 'coverag', 'cowboy', 'crack', 'craft', 'crap', 'crash', 'crass', 'crazi', 'crazier', 'craziest', 'creat', 'creation', 'credit', 'creep', 'cri', 'cricket', 'crime', 'crimin', 'crisi', 'critic', 'crook', 'crossroad', 'crowd', 'cruis', 'crumbl', 'crush', 'cruz', 'cuba', 'cuban', 'cum', 'cup', 'curio', 'currenc', 'current', 'cusp', 'custodi', 'cut', 'cute', 'cuz', 'cz', 'dakota', 'dalla', 'damag', 'damn', 'danger', 'dare', 'dark', 'darl', 'daughter', 'daven', 'david', 'day', 'dc', 'dead', 'deadlin', 'deal', 'dealer', 'dealt', 'death', 'debat', 'debbi', 'deborah', 'debt', 'debtor', 'decad', 'deceiv', 'decent', 'decid', 'decim', 'decis', 'decisionmak', 'declar', 'declin', 'deduct', 'deep', 'deepli', 'deepseat', 'default', 'defect', 'defend', 'defens', 'defer', 'deficit', 'defin', 'definit', 'degre', 'delawar', 'delay', 'deleg', 'delet', 'deliber', 'delinqu', 'deliv', 'delphi', 'demean', 'demeanor', 'democraci', 'democrat', 'deni', 'denmark', 'depart', 'depend', 'deplet', 'deport', 'depress', 'descent', 'descript', 'deserv', 'design', 'desper', 'despit', 'destabil', 'destroy', 'destruct', 'detect', 'detector', 'detroit', 'devalu', 'devast', 'develop', 'devil', 'di', 'diamond', 'dice', 'dick', 'didnt', 'die', 'differ', 'difficult', 'dig', 'dine', 'dinner', 'direct', 'directli', 'director', 'disabl', 'disadvantag', 'disagre', 'disappear', 'disappoint', 'disast', 'disastr', 'disavow', 'disclosur', 'disconcert', 'discov', 'discredit', 'discrimin', 'discus', 'disgrac', 'disgust', 'dish', 'dishonest', 'dishonesti', 'dislik', 'disloy', 'disloyalti', 'dismantl', 'disori', 'disparag', 'dispel', 'disproportion', 'distinguish', 'distract', 'disturb', 'ditch', 'diverg', 'divid', 'divorc', 'dizzi', 'dnc', 'dobb', 'dock', 'doctor', 'document', 'doesnt', 'doh', 'dollar', 'donald', 'donat', 'done', 'donna', 'donor', 'dont', 'door', 'dosag', 'doubl', 'doubledigit', 'doubt', 'dr', 'drag', 'dragon', 'drain', 'draw', 'dream', 'dress', 'dri', 'drink', 'drive', 'drop', 'drove', 'drown', 'drudg', 'drug', 'drunk', 'duct', 'dude', 'due', 'dumb', 'dumbest', 'dummi', 'dump', 'duti', 'ea', 'earl', 'earli', 'earliest', 'earn', 'earth', 'easi', 'easier', 'easiest', 'easili', 'east', 'eastern', 'easterwood', 'eat', 'ebay', 'econom', 'economi', 'eddi', 'edg', 'edit', 'educ', 'effect', 'effort', 'eight', 'eighteen', 'eighth', 'eighti', 'eightyf', 'eightynin', 'either', 'el', 'elderli', 'elect', 'electr', 'electrician', 'element', 'eleven', 'elig', 'elimin', 'elsewher', 'elvi', 'elysium', 'em', 'email', 'embarrass', 'emili', 'employ', 'employe', 'empti', 'encor', 'encourag', 'end', 'endors', 'enemi', 'energi', 'enforc', 'england', 'enjoy', 'enough', 'enslav', 'ensur', 'enter', 'enterpris', 'enthus', 'enthusiasm', 'enthusiast', 'entir', 'entitl', 'entr', 'entri', 'environment', 'epitom', 'equal', 'equip', 'era', 'erect', 'erik', 'errand', 'error', 'escap', 'especi', 'essenti', 'establish', 'estat', 'esther', 'etc', 'etcetera', 'europ', 'evacu', 'evancho', 'evangel', 'even', 'event', 'eventu', 'ever', 'everi', 'everybodi', 'everyon', 'everyth', 'evid', 'ex', 'exact', 'exactli', 'examin', 'exampl', 'excav', 'exceed', 'excel', 'except', 'excess', 'exchang', 'excit', 'execut', 'exempt', 'exercis', 'exist', 'expand', 'expans', 'expect', 'expens', 'experi', 'experienc', 'expert', 'explain', 'explod', 'expo', 'exposur', 'express', 'extent', 'extrem', 'extremist', 'eye', 'fabul', 'face', 'facil', 'fact', 'factor', 'factori', 'fail', 'failur', 'fair', 'faith', 'fall', 'fals', 'falwel', 'famili', 'fan', 'fanci', 'fantast', 'far', 'farmer', 'farreach', 'fast', 'faster', 'fat', 'father', 'fault', 'faulti', 'favor', 'favorit', 'fbi', 'feder', 'federalist', 'feel', 'fella', 'feloni', 'felt', 'ferri', 'fest', 'fianc', 'fiat', 'field', 'fifteen', 'fifth', 'fifti', 'fiftyeight', 'fiftyf', 'fight', 'fighter', 'figur', 'file', 'fill', 'film', 'filthi', 'final', 'financi', 'find', 'fine', 'finish', 'fire', 'firefight', 'first', 'firsthand', 'firsttim', 'fish', 'fit', 'five', 'fix', 'flag', 'flame', 'flaw', 'fled', 'flee', 'fli', 'fling', 'flint', 'flood', 'floor', 'florida', 'flow', 'flynn', 'focu', 'focus', 'foe', 'fold', 'folk', 'follow', 'followup', 'food', 'fool', 'foolish', 'foot', 'footbal', 'forc', 'ford', 'foreign', 'forest', 'forev', 'forget', 'forgot', 'forgotten', 'form', 'fort', 'forti', 'fortress', 'fortun', 'fortyf', 'fortythre', 'fought', 'found', 'foundat', 'four', 'fourstar', 'fourth', 'fouryear', 'fox', 'fraction', 'franc', 'francisco', 'frank', 'frankli', 'franklin', 'fratern', 'free', 'freetrad', 'fresh', 'friday', 'friend', 'friendli', 'friendship', 'friendt', 'front', 'frost', 'fte', 'fuck', 'fuel', 'full', 'fun', 'function', 'fund', 'funni', 'furiou', 'futur', 'ga', 'gain', 'game', 'gang', 'garner', 'gash', 'gate', 'gather', 'gave', 'gay', 'gdp', 'gee', 'gender', 'gener', 'genet', 'geniu', 'genius', 'gentleman', 'geographi', 'georgia', 'germani', 'get', 'gettysburg', 'giboney', 'gilley', 'girl', 'giuliani', 'give', 'given', 'gladli', 'glimps', 'global', 'globe', 'glove', 'go', 'goal', 'god', 'goe', 'gold', 'golf', 'gone', 'gonna', 'good', 'goodlook', 'gorgeou', 'got', 'gotta', 'gotten', 'govern', 'governor', 'grab', 'gradepoint', 'graduat', 'graham', 'grandchild', 'granit', 'granna', 'grant', 'grass', 'grate', 'graveyard', 'gray', 'great', 'greater', 'greatest', 'greatli', 'greet', 'greg', 'grew', 'griev', 'grind', 'gross', 'grossli', 'ground', 'group', 'grow', 'grown', 'growth', 'gruber', 'gsf', 'guarante', 'guess', 'guilti', 'guitar', 'gulf', 'gun', 'gunfre', 'gut', 'gutter', 'guy', 'gym', 'ha', 'hack', 'haha', 'hair', 'haiti', 'haley', 'half', 'hammer', 'hamp', 'hampshir', 'hampton', 'hand', 'hander', 'handl', 'hang', 'hangar', 'happen', 'happi', 'hard', 'harder', 'hardest', 'hardwork', 'harm', 'harrow', 'harsh', 'harvard', 'harwood', 'hasnt', 'hast', 'hat', 'hate', 'hater', 'hatr', 'haven', 'havent', 'havoc', 'he', 'head', 'headphon', 'health', 'healthcar', 'healthi', 'heap', 'hear', 'heard', 'heart', 'heartach', 'heat', 'heavili', 'hed', 'heed', 'held', 'helicopt', 'hell', 'hello', 'help', 'henderson', 'henri', 'here', 'heritag', 'heroin', 'heron', 'hershey', 'hey', 'hi', 'high', 'higher', 'highest', 'highli', 'highpay', 'highrisk', 'highway', 'hike', 'hilari', 'hill', 'hillari', 'hiller', 'hire', 'hispan', 'histor', 'histori', 'hit', 'ho', 'hokey', 'hold', 'holdout', 'holli', 'home', 'hometown', 'homicid', 'honest', 'honesti', 'honestli', 'honor', 'hook', 'hop', 'hope', 'horrend', 'horribl', 'horror', 'hors', 'hospit', 'host', 'hostag', 'hot', 'hotel', 'hour', 'hourli', 'hous', 'household', 'how', 'howev', 'howi', 'howr', 'huckabe', 'hug', 'huge', 'huh', 'human', 'humili', 'hundr', 'hundredperson', 'hunt', 'hurrican', 'hurt', 'husband', 'icahn', 'ice', 'id', 'idea', 'ideal', 'ignor', 'ii', 'ill', 'illeg', 'illinoi', 'im', 'imagin', 'imbal', 'imit', 'immedi', 'immens', 'immigr', 'immun', 'impervi', 'implic', 'import', 'importantli', 'impos', 'imposs', 'impress', 'inadequ', 'inappropri', 'incarcer', 'incid', 'includ', 'incom', 'incompet', 'increas', 'incred', 'independ', 'index', 'india', 'indiana', 'indianapoli', 'indict', 'individu', 'industri', 'ineffect', 'infiltr', 'inflow', 'influx', 'infrastructur', 'infus', 'inglewood', 'injur', 'injuri', 'inner', 'innov', 'insect', 'insid', 'insist', 'inspir', 'instanc', 'instantli', 'instead', 'instinct', 'insult', 'insur', 'intact', 'intellect', 'intellig', 'intent', 'interest', 'interestingli', 'intern', 'internet', 'interrupt', 'interst', 'interview', 'introduc', 'invest', 'investig', 'invit', 'involv', 'iowa', 'iphon', 'ipn', 'iran', 'iraq', 'iron', 'isi', 'islam', 'island', 'isnt', 'israel', 'issu', 'itd', 'itll', 'ivanka', 'ive', 'jack', 'jacob', 'jail', 'jake', 'jamil', 'januari', 'japan', 'jason', 'jay', 'jayz', 'jeb', 'jeff', 'jefferson', 'jello', 'jerri', 'jersey', 'jess', 'jet', 'jevesti', 'jewish', 'jg', 'jigsaw', 'jim', 'job', 'jobkil', 'jobless', 'joe', 'john', 'johnson', 'join', 'joke', 'jon', 'jonathan', 'jone', 'josh', 'joshua', 'journal', 'journey', 'jovi', 'joy', 'jr', 'judg', 'judgment', 'juli', 'jump', 'jun', 'june', 'justic', 'justin', 'kain', 'kapha', 'kappa', 'karen', 'karl', 'kate', 'keep', 'keith', 'kennedi', 'kentucki', 'kept', 'kerr', 'kerri', 'key', 'kid', 'kiddingli', 'kill', 'killer', 'kind', 'king', 'kiss', 'klijn', 'knee', 'knew', 'knife', 'knight', 'knock', 'know', 'knowledg', 'known', 'komatsu', 'korea', 'kruki', 'krusti', 'la', 'labor', 'lack', 'ladder', 'ladi', 'laid', 'lake', 'laker', 'land', 'landslid', 'lane', 'languag', 'laptop', 'lara', 'larg', 'larger', 'largest', 'last', 'late', 'later', 'latina', 'latino', 'laud', 'laugh', 'laura', 'law', 'lay', 'le', 'lead', 'leader', 'leadership', 'leagu', 'learn', 'leash', 'least', 'leav', 'led', 'lee', 'left', 'leg', 'legal', 'legendari', 'leggett', 'legisl', 'lengthen', 'lesson', 'let', 'letter', 'level', 'lewd', 'lgbt', 'liar', 'lib', 'liber', 'liberti', 'libya', 'lie', 'lieuten', 'life', 'lifetim', 'light', 'lightweight', 'like', 'lili', 'line', 'lingo', 'lion', 'list', 'listen', 'liter', 'littl', 'live', 'lo', 'load', 'loaf', 'lobbyist', 'loca', 'local', 'locat', 'lock', 'londonderri', 'long', 'longer', 'longest', 'longterm', 'look', 'lora', 'lord', 'lose', 'loser', 'lost', 'lot', 'lotta', 'lou', 'loudoun', 'loui', 'louis', 'louisiana', 'lousi', 'love', 'low', 'lower', 'lowincom', 'loyal', 'loyalti', 'lucia', 'luck', 'luncheon', 'lurker', 'lyin', 'lynch', 'lyndon', 'maam', 'made', 'magazin', 'magic', 'magna', 'magnet', 'magnific', 'mail', 'main', 'maintain', 'major', 'make', 'mall', 'man', 'mana', 'manag', 'manhattan', 'mani', 'maniac', 'manipul', 'manufactur', 'map', 'march', 'marco', 'marilyn', 'mark', 'market', 'marksman', 'marri', 'marshal', 'maryland', 'mask', 'massachusett', 'massiv', 'mastermind', 'match', 'materi', 'mattel', 'matter', 'matthew', 'may', 'mayb', 'mayor', 'mean', 'meanest', 'meaningless', 'meant', 'meantim', 'mechan', 'medal', 'medic', 'medicar', 'medium', 'meet', 'meijer', 'member', 'memori', 'men', 'mend', 'mention', 'mere', 'mesa', 'mesh', 'mess', 'messag', 'messeng', 'met', 'mexican', 'mexico', 'miami', 'mic', 'michigan', 'microphon', 'middl', 'middleclass', 'midst', 'might', 'migrat', 'mike', 'milan', 'milania', 'mile', 'militari', 'militia', 'mill', 'miller', 'million', 'mind', 'mine', 'miner', 'minist', 'minneapoli', 'minnesota', 'minor', 'minut', 'misplac', 'miss', 'mission', 'mistak', 'mistreat', 'mobil', 'mochi', 'mock', 'model', 'moder', 'modern', 'mold', 'moment', 'momentum', 'monday', 'monetari', 'money', 'moneygram', 'month', 'monthli', 'morn', 'morphix', 'mostli', 'mosul', 'motel', 'mother', 'motion', 'motorola', 'motto', 'mount', 'mountain', 'mouth', 'move', 'movement', 'mr', 'much', 'multipl', 'murder', 'muscl', 'museum', 'music', 'musician', 'muslim', 'must', 'musz', 'mylona', 'mysteri', 'nafta', 'name', 'nap', 'narr', 'nashua', 'nasti', 'nate', 'nation', 'nationwid', 'nato', 'natur', 'nazca', 'near', 'nearli', 'necessari', 'neck', 'need', 'neg', 'negoti', 'neighbor', 'neither', 'nelli', 'nervou', 'netanyahu', 'network', 'neutral', 'nevada', 'never', 'new', 'news', 'newspap', 'next', 'nice', 'nicest', 'nicki', 'night', 'nightmar', 'nina', 'nine', 'nineti', 'ninja', 'nobodi', 'noisi', 'nomin', 'none', 'nonestablish', 'normal', 'norman', 'north', 'norway', 'note', 'noth', 'notic', 'novemb', 'nra', 'nuclear', 'nude', 'number', 'oath', 'obama', 'obamacar', 'obamaclinton', 'obsolet', 'obviou', 'obvious', 'occas', 'oclock', 'octob', 'offend', 'offens', 'offic', 'offici', 'often', 'oftentim', 'oh', 'ohh', 'ohio', 'oil', 'ok', 'okay', 'oklahoma', 'old', 'older', 'oldest', 'olli', 'ombr', 'omnibu', 'onceinalifetim', 'one', 'oneonon', 'onesid', 'oneway', 'onlin', 'onto', 'ooh', 'open', 'oppon', 'opportun', 'oppos', 'opposit', 'optimum', 'option', 'order', 'oreilli', 'organ', 'origin', 'orlando', 'osbourn', 'oscil', 'other', 'otherwis', 'ought', 'outflow', 'outlin', 'outpour', 'outsid', 'oval', 'ovat', 'overal', 'overboard', 'overflow', 'overlap', 'overr', 'overrun', 'oversea', 'overwhelm', 'owe', 'own', 'owner', 'pac', 'pack', 'page', 'paid', 'pain', 'palin', 'pam', 'pant', 'paper', 'paragraph', 'paralyz', 'parent', 'pari', 'part', 'parti', 'particip', 'particular', 'partit', 'partner', 'partnership', 'pas', 'passion', 'past', 'pastor', 'path', 'pathet', 'pathway', 'patricia', 'patriot', 'patrol', 'paul', 'paus', 'pay', 'payer', 'payment', 'peac', 'peanut', 'penal', 'penc', 'pennpoint', 'pennsylvania', 'peopl', 'per', 'percent', 'perfect', 'perform', 'perhap', 'period', 'perpetr', 'persev', 'persever', 'person', 'perspect', 'pet', 'pete', 'peterson', 'petraeu', 'petti', 'pga', 'phenomen', 'phenomenon', 'phil', 'philadelphia', 'phone', 'pi', 'piano', 'pic', 'pick', 'pictur', 'piec', 'pig', 'pilot', 'pink', 'pitch', 'pivot', 'place', 'plain', 'plan', 'plane', 'plant', 'platform', 'platt', 'play', 'player', 'plea', 'pledg', 'plenti', 'plot', 'plu', 'plumber', 'plymouth', 'pocahonta', 'pocket', 'point', 'poison', 'pole', 'polic', 'policeman', 'polici', 'polit', 'politician', 'poll', 'pond', 'poor', 'poorest', 'poorli', 'pope', 'popular', 'posit', 'possibl', 'post', 'potenti', 'potomac', 'poughkeepsi', 'pour', 'poverti', 'power', 'practic', 'pray', 'prayer', 'preciou', 'predict', 'predictor', 'prefer', 'premium', 'prep', 'prepar', 'presbyterian', 'prescript', 'present', 'preserv', 'presid', 'presidenti', 'press', 'pretti', 'prevent', 'preview', 'previou', 'previous', 'prey', 'price', 'primari', 'prime', 'principl', 'print', 'prior', 'prioriti', 'privat', 'prize', 'prob', 'probabl', 'problem', 'procedur', 'process', 'produc', 'product', 'profess', 'profession', 'prognosi', 'program', 'progress', 'project', 'promis', 'prompt', 'prone', 'proper', 'properli', 'properti', 'propos', 'prosper', 'protect', 'protector', 'protest', 'proud', 'prove', 'proven', 'provid', 'psycholog', 'public', 'publicli', 'pul', 'pull', 'puma', 'pundit', 'pupal', 'pupil', 'pure', 'purpos', 'pursu', 'push', 'put', 'putin', 'puzzl', 'quadripleg', 'qualifi', 'qualiti', 'quarterback', 'queen', 'question', 'quick', 'quickli', 'quietli', 'quit', 'rabbi', 'race', 'racist', 'radiant', 'radic', 'radio', 'raid', 'rain', 'rais', 'raley', 'ralli', 'ran', 'rana', 'rang', 'rank', 'ransom', 'rant', 'rare', 'rasmussen', 'ratchet', 'rate', 'rather', 'rave', 'reach', 'react', 'read', 'readi', 'reagan', 'real', 'realiz', 'realli', 'reappoint', 'reason', 'rebuild', 'rebuilt', 'receiv', 'recent', 'recheck', 'recipi', 'recogn', 'record', 'recordbreak', 'recoveri', 'recruit', 'red', 'reduc', 'reelect', 'reform', 'refuge', 'refus', 'regain', 'regard', 'region', 'regist', 'regret', 'regul', 'regulatori', 'reign', 'rel', 'relat', 'relationship', 'relax', 'releas', 'religi', 'religion', 'remark', 'rememb', 'remembr', 'remov', 'rene', 'renegoti', 'rent', 'reopen', 'rep', 'repeal', 'replac', 'report', 'repres', 'republican', 'reput', 'resid', 'resist', 'resolv', 'reson', 'resourc', 'respect', 'respons', 'rest', 'restor', 'restructur', 'result', 'retail', 'retir', 'retract', 'return', 'reutersipso', 'reveal', 'revel', 'revers', 'review', 'revit', 'reviv', 'reward', 'rhetor', 'rhode', 'rich', 'richest', 'rick', 'rid', 'ridicul', 'rifl', 'rig', 'right', 'righteou', 'ring', 'ringlead', 'rio', 'riot', 'rip', 'rise', 'risk', 'river', 'road', 'roadway', 'roam', 'roanok', 'roar', 'rob', 'rocker', 'rocket', 'roll', 'rolla', 'romney', 'ronald', 'roof', 'room', 'root', 'rose', 'rosemari', 'rosi', 'rot', 'rotten', 'rough', 'roughen', 'round', 'rout', 'routin', 'rove', 'row', 'rubio', 'rudolph', 'ruffin', 'ruin', 'rule', 'rum', 'rump', 'run', 'runin', 'rusev', 'rush', 'russia', 'rustl', 'rut', 'sad', 'saddest', 'safe', 'safer', 'safest', 'safeti', 'said', 'sailor', 'sale', 'salmon', 'salut', 'samaritan', 'san', 'sanctiti', 'sanctuari', 'sand', 'sander', 'sandwich', 'sang', 'saniti', 'sarah', 'sasa', 'sat', 'saturday', 'saudi', 'sauna', 'save', 'saw', 'say', 'scale', 'scalia', 'scandal', 'scene', 'scheme', 'school', 'schoolag', 'schultz', 'scold', 'score', 'scott', 'screen', 'screw', 'sea', 'sec', 'second', 'secret', 'secretari', 'secretariat', 'secretli', 'section', 'secur', 'see', 'seed', 'seek', 'seem', 'seen', 'selffund', 'sell', 'seller', 'sen', 'senat', 'send', 'senior', 'sent', 'sentenc', 'sequest', 'sergeant', 'seri', 'seriou', 'serious', 'serv', 'server', 'servic', 'set', 'seven', 'seventeen', 'seventh', 'seventi', 'sever', 'sexual', 'shake', 'shale', 'shape', 'share', 'sharon', 'shaw', 'she', 'shed', 'sheer', 'sheet', 'sheldon', 'shell', 'sheriff', 'shield', 'shift', 'ship', 'shirt', 'shit', 'shock', 'shoe', 'shoot', 'shooter', 'shop', 'shopper', 'short', 'shorten', 'shortli', 'shot', 'shouldnt', 'shout', 'show', 'shred', 'shut', 'sibl', 'sick', 'sid', 'side', 'sieg', 'sight', 'sign', 'signatur', 'significantli', 'silent', 'silli', 'silver', 'similar', 'simpl', 'simpli', 'simplic', 'sinatra', 'sinc', 'sincer', 'singapor', 'singl', 'sir', 'sister', 'sit', 'situat', 'six', 'sixteen', 'sixteenth', 'sixth', 'sixti', 'sixtytwo', 'size', 'skip', 'skyscrap', 'slash', 'sleep', 'slide', 'slightli', 'slipper', 'slow', 'slur', 'smack', 'small', 'smaller', 'smallest', 'smart', 'smarter', 'smartest', 'smead', 'smile', 'smotret', 'snap', 'soak', 'soandso', 'socal', 'social', 'societi', 'soft', 'sold', 'soldier', 'solut', 'solv', 'somali', 'somebodi', 'someday', 'someon', 'someplac', 'someth', 'sometim', 'son', 'song', 'soni', 'soon', 'sophist', 'sorri', 'sorrow', 'sort', 'soul', 'sound', 'sourc', 'south', 'southeast', 'southern', 'soviet', 'space', 'speak', 'speaker', 'spear', 'special', 'specialist', 'speech', 'spend', 'spent', 'spill', 'spin', 'spirit', 'spoil', 'spoke', 'spot', 'spread', 'sprint', 'squar', 'squeez', 'st', 'stab', 'stabil', 'stack', 'stadium', 'staff', 'staffer', 'stage', 'stagger', 'stake', 'stand', 'standard', 'star', 'start', 'stat', 'state', 'statement', 'station', 'statist', 'statistician', 'statu', 'stay', 'steak', 'steal', 'steam', 'steel', 'steinl', 'step', 'sterl', 'steve', 'still', 'stink', 'stock', 'stolen', 'stone', 'stood', 'stop', 'store', 'stori', 'storm', 'straight', 'straighten', 'strang', 'strangl', 'strap', 'strategi', 'street', 'strength', 'strengthen', 'strike', 'strip', 'strong', 'stronger', 'strongest', 'stronghold', 'strongli', 'structur', 'struggl', 'stuck', 'student', 'studi', 'stuff', 'stupid', 'subject', 'subpoena', 'subsidi', 'substanti', 'success', 'suck', 'sucker', 'sudden', 'suddenli', 'sue', 'suffer', 'suffolk', 'suggest', 'suicid', 'sum', 'summer', 'sunday', 'sununu', 'sup', 'super', 'superstar', 'support', 'suppos', 'supposedli', 'suprem', 'sure', 'surg', 'surgeon', 'surpris', 'survey', 'surviv', 'suspect', 'suspend', 'swamp', 'swanson', 'swear', 'sweat', 'sweden', 'sweet', 'sweetheart', 'swiss', 'switch', 'syria', 'syrian', 'system', 'tabl', 'take', 'taken', 'talent', 'taliban', 'talk', 'talker', 'taller', 'tape', 'target', 'tariff', 'tarmac', 'tast', 'taught', 'tax', 'taxi', 'taxpay', 'teacher', 'team', 'tear', 'ted', 'telephon', 'teleprompt', 'televis', 'tell', 'temper', 'ten', 'tenant', 'tenni', 'tenur', 'term', 'termin', 'terra', 'terribl', 'terrier', 'terrif', 'terror', 'terrorist', 'test', 'testitud', 'texa', 'textin', 'textur', 'thank', 'that', 'thatll', 'theft', 'theme', 'there', 'therefor', 'therel', 'theyd', 'theyll', 'theyr', 'theyv', 'thing', 'think', 'thinkin', 'third', 'thirdworld', 'thirteen', 'thirti', 'thirtyf', 'thirtyfour', 'thoma', 'thornton', 'though', 'thought', 'thousand', 'threat', 'threaten', 'three', 'threw', 'thrive', 'throat', 'throughout', 'throw', 'thug', 'ticklish', 'tie', 'tienen', 'tiffani', 'till', 'tim', 'time', 'timelin', 'tini', 'tire', 'titl', 'today', 'toddler', 'togeth', 'told', 'tom', 'tommi', 'tomorrow', 'tone', 'tongu', 'tonight', 'took', 'tool', 'top', 'torch', 'tortur', 'total', 'touch', 'touchin', 'tough', 'toughen', 'tougher', 'toughest', 'toward', 'tower', 'town', 'tpp', 'track', 'tractor', 'trade', 'trader', 'tradit', 'traffic', 'tragic', 'trailer', 'train', 'traitor', 'transact', 'transfer', 'translat', 'transpacif', 'transport', 'trap', 'trapp', 'travel', 'tray', 'treat', 'treati', 'tree', 'tremend', 'trey', 'tri', 'trial', 'trick', 'trigger', 'trillion', 'trip', 'tripl', 'trojan', 'troop', 'troubl', 'truck', 'true', 'truli', 'trump', 'trumpet', 'trunk', 'truth', 'tuck', 'tuesday', 'turn', 'turnaround', 'twelv', 'twenti', 'twentysecond', 'twentyseven', 'twice', 'twitter', 'two', 'twoway', 'type', 'typo', 'ufo', 'ugli', 'uh', 'uhhuh', 'ultim', 'um', 'unaccept', 'unbeliev', 'unbroken', 'uncl', 'underfund', 'understaf', 'understand', 'understood', 'underwat', 'underway', 'unemploy', 'unfair', 'unfairli', 'unfit', 'unfortun', 'unfre', 'unhappi', 'uninspir', 'union', 'unison', 'unit', 'uniti', 'unleash', 'unless', 'unlik', 'unlimit', 'unlock', 'unnecessari', 'unpopular', 'unpreced', 'unsaf', 'unsign', 'untap', 'unworthi', 'upgrad', 'uphold', 'upholsteri', 'upi', 'upon', 'upset', 'upstair', 'upstat', 'usa', 'use', 'usual', 'va', 'vacat', 'vacuum', 'vain', 'valley', 'valor', 'valu', 'vanessa', 'vanish', 'variou', 'vega', 'vehicl', 'venezuela', 'vent', 'ventur', 'venu', 'verdict', 'versatil', 'version', 'vessel', 'vet', 'veteran', 'vettel', 'via', 'vice', 'viciou', 'vicious', 'victim', 'victor', 'victori', 'video', 'vietnam', 'view', 'viewer', 'vigil', 'violat', 'violenc', 'violent', 'virginia', 'virtual', 'visa', 'visit', 'vital', 'vivid', 'vocal', 'voic', 'volunt', 'vote', 'voter', 'wage', 'waist', 'wait', 'wake', 'walk', 'walker', 'wall', 'want', 'war', 'warm', 'warmth', 'washington', 'wasnt', 'wasserman', 'wast', 'watch', 'water', 'wave', 'way', 'wealth', 'wealthi', 'weapon', 'wear', 'wed', 'weed', 'week', 'weekend', 'weight', 'weiner', 'weird', 'welcom', 'welfar', 'well', 'went', 'werent', 'west', 'western', 'wet', 'weve', 'what', 'whatev', 'whatsoev', 'wheat', 'wheelchair', 'wheelhous', 'whenev', 'where', 'wherea', 'wherev', 'whether', 'white', 'whittak', 'whiz', 'who', 'whoa', 'whoever', 'whole', 'whose', 'whove', 'wick', 'wide', 'wider', 'wife', 'wigan', 'wigga', 'wikileak', 'wilkerson', 'will', 'willi', 'win', 'wind', 'window', 'winner', 'wipe', 'wisconsin', 'wise', 'wish', 'wit', 'withdraw', 'within', 'without', 'wive', 'woman', 'wonder', 'wont', 'word', 'work', 'worker', 'world', 'worldclass', 'worn', 'worri', 'wors', 'worst', 'worth', 'would', 'wouldnt', 'wound', 'wow', 'wreak', 'write', 'writer', 'written', 'wrong', 'wrote', 'wto', 'yawn', 'yay', 'ye', 'yeah', 'year', 'yearn', 'yearold', 'yesterday', 'yet', 'york', 'yorker', 'youd', 'youll', 'young', 'younger', 'your', 'youth', 'youv', 'zand', 'zero', 'zone']\n"
     ]
    }
   ],
   "source": [
    "# CountVectorizer\n",
    "tf_vectorizer = CountVectorizer()\n",
    "tf = tf_vectorizer.fit_transform(clean_subs)\n",
    "print(\"CountVectorizer:\")\n",
    "print(tf)\n",
    "print(sep)\n",
    "print(tf_vectorizer.get_feature_names())"
   ]
  },
  {
   "cell_type": "code",
   "execution_count": 10,
   "metadata": {},
   "outputs": [
    {
     "name": "stdout",
     "output_type": "stream",
     "text": [
      "TFIDF:\n",
      "  (0, 1480)\t0.04861311375377568\n",
      "  (0, 1185)\t0.01064928767329923\n",
      "  (0, 1715)\t0.04861311375377568\n",
      "  (0, 1928)\t0.015615852504595133\n",
      "  (0, 1418)\t0.012818828241991058\n",
      "  (0, 1102)\t0.03477699244126626\n",
      "  (0, 1612)\t0.01738849622063313\n",
      "  (0, 1120)\t0.012818828241991058\n",
      "  (0, 1086)\t0.01738849622063313\n",
      "  (0, 2673)\t0.009722622750755137\n",
      "  (0, 2833)\t0.011673668219865305\n",
      "  (0, 859)\t0.026297245336658864\n",
      "  (0, 2862)\t0.011673668219865305\n",
      "  (0, 1587)\t0.01064928767329923\n",
      "  (0, 2816)\t0.019445245501510274\n",
      "  (0, 2554)\t0.11177530525964517\n",
      "  (0, 1434)\t0.015615852504595133\n",
      "  (0, 108)\t0.031231705009190265\n",
      "  (0, 594)\t0.022355061051929033\n",
      "  (0, 1222)\t0.011673668219865305\n",
      "  (0, 1674)\t0.03502100465959591\n",
      "  (0, 2437)\t0.011673668219865305\n",
      "  (0, 552)\t0.01411710359786226\n",
      "  (0, 475)\t0.01955803678932496\n",
      "  (0, 1548)\t0.03477699244126626\n",
      "  :\t:\n",
      "  (9, 994)\t0.0048003700783518415\n",
      "  (9, 372)\t0.06720518109692579\n",
      "  (9, 1716)\t0.052804070861870264\n",
      "  (9, 2086)\t0.042063153709174864\n",
      "  (9, 1892)\t0.0048003700783518415\n",
      "  (9, 2802)\t0.02400185039175921\n",
      "  (9, 1451)\t0.03840296062681473\n",
      "  (9, 1060)\t0.14401110235055525\n",
      "  (9, 1427)\t0.08640666141033315\n",
      "  (9, 2384)\t0.011527327360900817\n",
      "  (9, 2376)\t0.012658131681105515\n",
      "  (9, 1858)\t0.13441036219385158\n",
      "  (9, 215)\t0.02531626336221103\n",
      "  (9, 2784)\t0.13441036219385158\n",
      "  (9, 2809)\t0.08640666141033315\n",
      "  (9, 862)\t0.02880222047011105\n",
      "  (9, 1681)\t0.026289471068234288\n",
      "  (9, 113)\t0.02880222047011105\n",
      "  (9, 2550)\t0.06720518109692579\n",
      "  (9, 911)\t0.03154736528188115\n",
      "  (9, 1073)\t0.36962849603309184\n",
      "  (9, 1675)\t0.05063252672442206\n",
      "  (9, 2414)\t0.091207031488685\n",
      "  (9, 2703)\t0.033602590548462895\n",
      "  (9, 1948)\t0.052804070861870264\n",
      "============================================================================================\n",
      "['abandon', 'abat', 'abl', 'abolish', 'absolut', 'abus', 'academi', 'accessori', 'accid', 'accomplish', 'accord', 'account', 'accus', 'achiev', 'acknowledg', 'acquit', 'across', 'act', 'action', 'activ', 'actual', 'acumen', 'ad', 'add', 'addict', 'addit', 'address', 'adelson', 'administr', 'admir', 'admiss', 'admit', 'advantag', 'adventur', 'advil', 'aeroplan', 'affect', 'afford', 'afghanistan', 'african', 'africanamerican', 'afternoon', 'age', 'agenda', 'agent', 'aggress', 'agn', 'ago', 'agre', 'agreement', 'ah', 'ahead', 'aid', 'ailment', 'air', 'aircondit', 'airplan', 'airport', 'al', 'alabama', 'alb', 'albani', 'alderaan', 'alien', 'aliv', 'allegra', 'alli', 'allow', 'allspanish', 'alltim', 'almost', 'along', 'alreadi', 'also', 'altern', 'although', 'altogeth', 'alway', 'amaz', 'ambush', 'amend', 'america', 'american', 'among', 'amount', 'anchor', 'anderson', 'angan', 'angel', 'angelo', 'angri', 'anim', 'ankl', 'anniversari', 'announc', 'annual', 'anonym', 'anoth', 'answer', 'ant', 'anthoni', 'antonio', 'anybodi', 'anymor', 'anyon', 'anyth', 'anytim', 'anyway', 'anywher', 'apart', 'apolog', 'app', 'appl', 'applaus', 'appli', 'appoint', 'appreci', 'approach', 'approv', 'arabia', 'architect', 'area', 'arena', 'arent', 'argu', 'arizona', 'arm', 'aros', 'around', 'arpaio', 'arrest', 'arriv', 'arrog', 'articl', 'asap', 'ash', 'asham', 'asid', 'ask', 'asleep', 'ass', 'assassin', 'assault', 'asset', 'associ', 'assum', 'assur', 'asylum', 'atheist', 'atlanta', 'attack', 'attitud', 'attorney', 'auburn', 'audienc', 'audio', 'aurora', 'auspic', 'author', 'auto', 'automobil', 'automot', 'averag', 'award', 'away', 'awesom', 'axe', 'ba', 'baba', 'babi', 'back', 'backer', 'background', 'bad', 'badli', 'bahama', 'bake', 'balanc', 'ball', 'ballgam', 'ballot', 'ballroom', 'baltimor', 'bandwagon', 'bangladesh', 'banjo', 'bank', 'bankrupt', 'baptism', 'bar', 'barack', 'baraka', 'barrier', 'base', 'basebal', 'basi', 'basic', 'basketbal', 'bat', 'batteri', 'bay', 'be', 'beach', 'bead', 'bear', 'beat', 'beaten', 'beauti', 'becam', 'becom', 'bed', 'bedford', 'beef', 'beg', 'began', 'begin', 'behalf', 'behav', 'behemoth', 'behind', 'beij', 'belichick', 'believ', 'bell', 'bella', 'belong', 'ben', 'benarje', 'beneficiari', 'benefit', 'benghazi', 'bent', 'beresford', 'bernardino', 'berni', 'besid', 'best', 'bet', 'bethpag', 'better', 'beyonc', 'beyond', 'bias', 'bibi', 'bibl', 'big', 'bigger', 'biggest', 'biggi', 'bigleagu', 'bill', 'billi', 'billion', 'bird', 'birdi', 'birthday', 'bishop', 'bit', 'bitch', 'bitin', 'black', 'blame', 'bleach', 'bleed', 'bless', 'blind', 'blinder', 'block', 'blood', 'blow', 'blunt', 'boar', 'board', 'bob', 'bobbi', 'bodi', 'boe', 'bold', 'bomb', 'bomber', 'bon', 'bond', 'bonus', 'boo', 'book', 'boom', 'boost', 'booth', 'border', 'bore', 'born', 'borrow', 'bosal', 'boston', 'bother', 'bottom', 'bought', 'bounc', 'bound', 'bow', 'bowtiqu', 'box', 'boy', 'bracket', 'bradi', 'brag', 'bragg', 'brain', 'branch', 'bread', 'break', 'brent', 'brew', 'brexit', 'brian', 'bribe', 'bridg', 'bridgeport', 'bridgewat', 'bright', 'brilliant', 'brilliantli', 'bring', 'brink', 'brit', 'british', 'broke', 'broken', 'brooklyn', 'brother', 'brought', 'brunt', 'brutal', 'bu', 'buck', 'buckley', 'budget', 'build', 'builder', 'built', 'bullet', 'bulli', 'bunch', 'bunni', 'bureaucrat', 'burglari', 'burn', 'burton', 'bush', 'busi', 'businessman', 'bust', 'butt', 'button', 'buy', 'cabl', 'cage', 'cain', 'california', 'call', 'caller', 'calm', 'calvin', 'came', 'camera', 'camo', 'camp', 'campaign', 'cancel', 'candi', 'candid', 'cannot', 'cant', 'capabl', 'car', 'care', 'career', 'carefus', 'caribbean', 'carl', 'carnag', 'carolina', 'carr', 'carri', 'carrier', 'carson', 'cartel', 'cartwright', 'case', 'cash', 'cast', 'castil', 'castro', 'catastroph', 'catch', 'categori', 'caterpillar', 'cathol', 'caught', 'caus', 'ceil', 'cell', 'center', 'certain', 'certainli', 'chain', 'challeng', 'championship', 'chanc', 'chang', 'chapter', 'charact', 'charg', 'charlen', 'charli', 'charlott', 'charlottesvil', 'cheaper', 'cheapest', 'cheat', 'check', 'cheerlead', 'chemistri', 'cherish', 'cheyenn', 'chicago', 'chief', 'child', 'chill', 'china', 'chine', 'chip', 'choic', 'choke', 'choos', 'chop', 'chri', 'christi', 'christian', 'chrysler', 'chuck', 'church', 'circl', 'circumst', 'citi', 'citizen', 'citizenship', 'civilian', 'class', 'clay', 'clean', 'clear', 'clerk', 'cleveland', 'clin', 'clinton', 'clip', 'clock', 'close', 'closer', 'cloud', 'clue', 'cnn', 'coach', 'coal', 'coast', 'code', 'coffe', 'cold', 'colin', 'collect', 'colleg', 'colorado', 'come', 'comey', 'comfort', 'command', 'comment', 'commerci', 'commi', 'commiss', 'commit', 'committe', 'common', 'commun', 'compani', 'compar', 'compass', 'compet', 'competit', 'competitor', 'compil', 'complain', 'complet', 'complex', 'complic', 'compliment', 'concept', 'concern', 'concert', 'condit', 'condition', 'condo', 'conduct', 'confer', 'confid', 'congratul', 'congress', 'congression', 'congressman', 'connect', 'connecticut', 'consequ', 'conserv', 'consid', 'constitut', 'construct', 'consult', 'continu', 'contra', 'contract', 'contribut', 'control', 'controversi', 'conveni', 'convent', 'convers', 'convict', 'convinc', 'cool', 'cooler', 'cop', 'cope', 'cord', 'core', 'corner', 'correct', 'corros', 'corrupt', 'cost', 'costli', 'could', 'couldnt', 'count', 'counti', 'countless', 'countri', 'coupl', 'courag', 'cours', 'court', 'cousin', 'cover', 'coverag', 'cowboy', 'crack', 'craft', 'crap', 'crash', 'crass', 'crazi', 'crazier', 'craziest', 'creat', 'creation', 'credit', 'creep', 'cri', 'cricket', 'crime', 'crimin', 'crisi', 'critic', 'crook', 'crossroad', 'crowd', 'cruis', 'crumbl', 'crush', 'cruz', 'cuba', 'cuban', 'cum', 'cup', 'curio', 'currenc', 'current', 'cusp', 'custodi', 'cut', 'cute', 'cuz', 'cz', 'dakota', 'dalla', 'damag', 'damn', 'danger', 'dare', 'dark', 'darl', 'daughter', 'daven', 'david', 'day', 'dc', 'dead', 'deadlin', 'deal', 'dealer', 'dealt', 'death', 'debat', 'debbi', 'deborah', 'debt', 'debtor', 'decad', 'deceiv', 'decent', 'decid', 'decim', 'decis', 'decisionmak', 'declar', 'declin', 'deduct', 'deep', 'deepli', 'deepseat', 'default', 'defect', 'defend', 'defens', 'defer', 'deficit', 'defin', 'definit', 'degre', 'delawar', 'delay', 'deleg', 'delet', 'deliber', 'delinqu', 'deliv', 'delphi', 'demean', 'demeanor', 'democraci', 'democrat', 'deni', 'denmark', 'depart', 'depend', 'deplet', 'deport', 'depress', 'descent', 'descript', 'deserv', 'design', 'desper', 'despit', 'destabil', 'destroy', 'destruct', 'detect', 'detector', 'detroit', 'devalu', 'devast', 'develop', 'devil', 'di', 'diamond', 'dice', 'dick', 'didnt', 'die', 'differ', 'difficult', 'dig', 'dine', 'dinner', 'direct', 'directli', 'director', 'disabl', 'disadvantag', 'disagre', 'disappear', 'disappoint', 'disast', 'disastr', 'disavow', 'disclosur', 'disconcert', 'discov', 'discredit', 'discrimin', 'discus', 'disgrac', 'disgust', 'dish', 'dishonest', 'dishonesti', 'dislik', 'disloy', 'disloyalti', 'dismantl', 'disori', 'disparag', 'dispel', 'disproportion', 'distinguish', 'distract', 'disturb', 'ditch', 'diverg', 'divid', 'divorc', 'dizzi', 'dnc', 'dobb', 'dock', 'doctor', 'document', 'doesnt', 'doh', 'dollar', 'donald', 'donat', 'done', 'donna', 'donor', 'dont', 'door', 'dosag', 'doubl', 'doubledigit', 'doubt', 'dr', 'drag', 'dragon', 'drain', 'draw', 'dream', 'dress', 'dri', 'drink', 'drive', 'drop', 'drove', 'drown', 'drudg', 'drug', 'drunk', 'duct', 'dude', 'due', 'dumb', 'dumbest', 'dummi', 'dump', 'duti', 'ea', 'earl', 'earli', 'earliest', 'earn', 'earth', 'easi', 'easier', 'easiest', 'easili', 'east', 'eastern', 'easterwood', 'eat', 'ebay', 'econom', 'economi', 'eddi', 'edg', 'edit', 'educ', 'effect', 'effort', 'eight', 'eighteen', 'eighth', 'eighti', 'eightyf', 'eightynin', 'either', 'el', 'elderli', 'elect', 'electr', 'electrician', 'element', 'eleven', 'elig', 'elimin', 'elsewher', 'elvi', 'elysium', 'em', 'email', 'embarrass', 'emili', 'employ', 'employe', 'empti', 'encor', 'encourag', 'end', 'endors', 'enemi', 'energi', 'enforc', 'england', 'enjoy', 'enough', 'enslav', 'ensur', 'enter', 'enterpris', 'enthus', 'enthusiasm', 'enthusiast', 'entir', 'entitl', 'entr', 'entri', 'environment', 'epitom', 'equal', 'equip', 'era', 'erect', 'erik', 'errand', 'error', 'escap', 'especi', 'essenti', 'establish', 'estat', 'esther', 'etc', 'etcetera', 'europ', 'evacu', 'evancho', 'evangel', 'even', 'event', 'eventu', 'ever', 'everi', 'everybodi', 'everyon', 'everyth', 'evid', 'ex', 'exact', 'exactli', 'examin', 'exampl', 'excav', 'exceed', 'excel', 'except', 'excess', 'exchang', 'excit', 'execut', 'exempt', 'exercis', 'exist', 'expand', 'expans', 'expect', 'expens', 'experi', 'experienc', 'expert', 'explain', 'explod', 'expo', 'exposur', 'express', 'extent', 'extrem', 'extremist', 'eye', 'fabul', 'face', 'facil', 'fact', 'factor', 'factori', 'fail', 'failur', 'fair', 'faith', 'fall', 'fals', 'falwel', 'famili', 'fan', 'fanci', 'fantast', 'far', 'farmer', 'farreach', 'fast', 'faster', 'fat', 'father', 'fault', 'faulti', 'favor', 'favorit', 'fbi', 'feder', 'federalist', 'feel', 'fella', 'feloni', 'felt', 'ferri', 'fest', 'fianc', 'fiat', 'field', 'fifteen', 'fifth', 'fifti', 'fiftyeight', 'fiftyf', 'fight', 'fighter', 'figur', 'file', 'fill', 'film', 'filthi', 'final', 'financi', 'find', 'fine', 'finish', 'fire', 'firefight', 'first', 'firsthand', 'firsttim', 'fish', 'fit', 'five', 'fix', 'flag', 'flame', 'flaw', 'fled', 'flee', 'fli', 'fling', 'flint', 'flood', 'floor', 'florida', 'flow', 'flynn', 'focu', 'focus', 'foe', 'fold', 'folk', 'follow', 'followup', 'food', 'fool', 'foolish', 'foot', 'footbal', 'forc', 'ford', 'foreign', 'forest', 'forev', 'forget', 'forgot', 'forgotten', 'form', 'fort', 'forti', 'fortress', 'fortun', 'fortyf', 'fortythre', 'fought', 'found', 'foundat', 'four', 'fourstar', 'fourth', 'fouryear', 'fox', 'fraction', 'franc', 'francisco', 'frank', 'frankli', 'franklin', 'fratern', 'free', 'freetrad', 'fresh', 'friday', 'friend', 'friendli', 'friendship', 'friendt', 'front', 'frost', 'fte', 'fuck', 'fuel', 'full', 'fun', 'function', 'fund', 'funni', 'furiou', 'futur', 'ga', 'gain', 'game', 'gang', 'garner', 'gash', 'gate', 'gather', 'gave', 'gay', 'gdp', 'gee', 'gender', 'gener', 'genet', 'geniu', 'genius', 'gentleman', 'geographi', 'georgia', 'germani', 'get', 'gettysburg', 'giboney', 'gilley', 'girl', 'giuliani', 'give', 'given', 'gladli', 'glimps', 'global', 'globe', 'glove', 'go', 'goal', 'god', 'goe', 'gold', 'golf', 'gone', 'gonna', 'good', 'goodlook', 'gorgeou', 'got', 'gotta', 'gotten', 'govern', 'governor', 'grab', 'gradepoint', 'graduat', 'graham', 'grandchild', 'granit', 'granna', 'grant', 'grass', 'grate', 'graveyard', 'gray', 'great', 'greater', 'greatest', 'greatli', 'greet', 'greg', 'grew', 'griev', 'grind', 'gross', 'grossli', 'ground', 'group', 'grow', 'grown', 'growth', 'gruber', 'gsf', 'guarante', 'guess', 'guilti', 'guitar', 'gulf', 'gun', 'gunfre', 'gut', 'gutter', 'guy', 'gym', 'ha', 'hack', 'haha', 'hair', 'haiti', 'haley', 'half', 'hammer', 'hamp', 'hampshir', 'hampton', 'hand', 'hander', 'handl', 'hang', 'hangar', 'happen', 'happi', 'hard', 'harder', 'hardest', 'hardwork', 'harm', 'harrow', 'harsh', 'harvard', 'harwood', 'hasnt', 'hast', 'hat', 'hate', 'hater', 'hatr', 'haven', 'havent', 'havoc', 'he', 'head', 'headphon', 'health', 'healthcar', 'healthi', 'heap', 'hear', 'heard', 'heart', 'heartach', 'heat', 'heavili', 'hed', 'heed', 'held', 'helicopt', 'hell', 'hello', 'help', 'henderson', 'henri', 'here', 'heritag', 'heroin', 'heron', 'hershey', 'hey', 'hi', 'high', 'higher', 'highest', 'highli', 'highpay', 'highrisk', 'highway', 'hike', 'hilari', 'hill', 'hillari', 'hiller', 'hire', 'hispan', 'histor', 'histori', 'hit', 'ho', 'hokey', 'hold', 'holdout', 'holli', 'home', 'hometown', 'homicid', 'honest', 'honesti', 'honestli', 'honor', 'hook', 'hop', 'hope', 'horrend', 'horribl', 'horror', 'hors', 'hospit', 'host', 'hostag', 'hot', 'hotel', 'hour', 'hourli', 'hous', 'household', 'how', 'howev', 'howi', 'howr', 'huckabe', 'hug', 'huge', 'huh', 'human', 'humili', 'hundr', 'hundredperson', 'hunt', 'hurrican', 'hurt', 'husband', 'icahn', 'ice', 'id', 'idea', 'ideal', 'ignor', 'ii', 'ill', 'illeg', 'illinoi', 'im', 'imagin', 'imbal', 'imit', 'immedi', 'immens', 'immigr', 'immun', 'impervi', 'implic', 'import', 'importantli', 'impos', 'imposs', 'impress', 'inadequ', 'inappropri', 'incarcer', 'incid', 'includ', 'incom', 'incompet', 'increas', 'incred', 'independ', 'index', 'india', 'indiana', 'indianapoli', 'indict', 'individu', 'industri', 'ineffect', 'infiltr', 'inflow', 'influx', 'infrastructur', 'infus', 'inglewood', 'injur', 'injuri', 'inner', 'innov', 'insect', 'insid', 'insist', 'inspir', 'instanc', 'instantli', 'instead', 'instinct', 'insult', 'insur', 'intact', 'intellect', 'intellig', 'intent', 'interest', 'interestingli', 'intern', 'internet', 'interrupt', 'interst', 'interview', 'introduc', 'invest', 'investig', 'invit', 'involv', 'iowa', 'iphon', 'ipn', 'iran', 'iraq', 'iron', 'isi', 'islam', 'island', 'isnt', 'israel', 'issu', 'itd', 'itll', 'ivanka', 'ive', 'jack', 'jacob', 'jail', 'jake', 'jamil', 'januari', 'japan', 'jason', 'jay', 'jayz', 'jeb', 'jeff', 'jefferson', 'jello', 'jerri', 'jersey', 'jess', 'jet', 'jevesti', 'jewish', 'jg', 'jigsaw', 'jim', 'job', 'jobkil', 'jobless', 'joe', 'john', 'johnson', 'join', 'joke', 'jon', 'jonathan', 'jone', 'josh', 'joshua', 'journal', 'journey', 'jovi', 'joy', 'jr', 'judg', 'judgment', 'juli', 'jump', 'jun', 'june', 'justic', 'justin', 'kain', 'kapha', 'kappa', 'karen', 'karl', 'kate', 'keep', 'keith', 'kennedi', 'kentucki', 'kept', 'kerr', 'kerri', 'key', 'kid', 'kiddingli', 'kill', 'killer', 'kind', 'king', 'kiss', 'klijn', 'knee', 'knew', 'knife', 'knight', 'knock', 'know', 'knowledg', 'known', 'komatsu', 'korea', 'kruki', 'krusti', 'la', 'labor', 'lack', 'ladder', 'ladi', 'laid', 'lake', 'laker', 'land', 'landslid', 'lane', 'languag', 'laptop', 'lara', 'larg', 'larger', 'largest', 'last', 'late', 'later', 'latina', 'latino', 'laud', 'laugh', 'laura', 'law', 'lay', 'le', 'lead', 'leader', 'leadership', 'leagu', 'learn', 'leash', 'least', 'leav', 'led', 'lee', 'left', 'leg', 'legal', 'legendari', 'leggett', 'legisl', 'lengthen', 'lesson', 'let', 'letter', 'level', 'lewd', 'lgbt', 'liar', 'lib', 'liber', 'liberti', 'libya', 'lie', 'lieuten', 'life', 'lifetim', 'light', 'lightweight', 'like', 'lili', 'line', 'lingo', 'lion', 'list', 'listen', 'liter', 'littl', 'live', 'lo', 'load', 'loaf', 'lobbyist', 'loca', 'local', 'locat', 'lock', 'londonderri', 'long', 'longer', 'longest', 'longterm', 'look', 'lora', 'lord', 'lose', 'loser', 'lost', 'lot', 'lotta', 'lou', 'loudoun', 'loui', 'louis', 'louisiana', 'lousi', 'love', 'low', 'lower', 'lowincom', 'loyal', 'loyalti', 'lucia', 'luck', 'luncheon', 'lurker', 'lyin', 'lynch', 'lyndon', 'maam', 'made', 'magazin', 'magic', 'magna', 'magnet', 'magnific', 'mail', 'main', 'maintain', 'major', 'make', 'mall', 'man', 'mana', 'manag', 'manhattan', 'mani', 'maniac', 'manipul', 'manufactur', 'map', 'march', 'marco', 'marilyn', 'mark', 'market', 'marksman', 'marri', 'marshal', 'maryland', 'mask', 'massachusett', 'massiv', 'mastermind', 'match', 'materi', 'mattel', 'matter', 'matthew', 'may', 'mayb', 'mayor', 'mean', 'meanest', 'meaningless', 'meant', 'meantim', 'mechan', 'medal', 'medic', 'medicar', 'medium', 'meet', 'meijer', 'member', 'memori', 'men', 'mend', 'mention', 'mere', 'mesa', 'mesh', 'mess', 'messag', 'messeng', 'met', 'mexican', 'mexico', 'miami', 'mic', 'michigan', 'microphon', 'middl', 'middleclass', 'midst', 'might', 'migrat', 'mike', 'milan', 'milania', 'mile', 'militari', 'militia', 'mill', 'miller', 'million', 'mind', 'mine', 'miner', 'minist', 'minneapoli', 'minnesota', 'minor', 'minut', 'misplac', 'miss', 'mission', 'mistak', 'mistreat', 'mobil', 'mochi', 'mock', 'model', 'moder', 'modern', 'mold', 'moment', 'momentum', 'monday', 'monetari', 'money', 'moneygram', 'month', 'monthli', 'morn', 'morphix', 'mostli', 'mosul', 'motel', 'mother', 'motion', 'motorola', 'motto', 'mount', 'mountain', 'mouth', 'move', 'movement', 'mr', 'much', 'multipl', 'murder', 'muscl', 'museum', 'music', 'musician', 'muslim', 'must', 'musz', 'mylona', 'mysteri', 'nafta', 'name', 'nap', 'narr', 'nashua', 'nasti', 'nate', 'nation', 'nationwid', 'nato', 'natur', 'nazca', 'near', 'nearli', 'necessari', 'neck', 'need', 'neg', 'negoti', 'neighbor', 'neither', 'nelli', 'nervou', 'netanyahu', 'network', 'neutral', 'nevada', 'never', 'new', 'news', 'newspap', 'next', 'nice', 'nicest', 'nicki', 'night', 'nightmar', 'nina', 'nine', 'nineti', 'ninja', 'nobodi', 'noisi', 'nomin', 'none', 'nonestablish', 'normal', 'norman', 'north', 'norway', 'note', 'noth', 'notic', 'novemb', 'nra', 'nuclear', 'nude', 'number', 'oath', 'obama', 'obamacar', 'obamaclinton', 'obsolet', 'obviou', 'obvious', 'occas', 'oclock', 'octob', 'offend', 'offens', 'offic', 'offici', 'often', 'oftentim', 'oh', 'ohh', 'ohio', 'oil', 'ok', 'okay', 'oklahoma', 'old', 'older', 'oldest', 'olli', 'ombr', 'omnibu', 'onceinalifetim', 'one', 'oneonon', 'onesid', 'oneway', 'onlin', 'onto', 'ooh', 'open', 'oppon', 'opportun', 'oppos', 'opposit', 'optimum', 'option', 'order', 'oreilli', 'organ', 'origin', 'orlando', 'osbourn', 'oscil', 'other', 'otherwis', 'ought', 'outflow', 'outlin', 'outpour', 'outsid', 'oval', 'ovat', 'overal', 'overboard', 'overflow', 'overlap', 'overr', 'overrun', 'oversea', 'overwhelm', 'owe', 'own', 'owner', 'pac', 'pack', 'page', 'paid', 'pain', 'palin', 'pam', 'pant', 'paper', 'paragraph', 'paralyz', 'parent', 'pari', 'part', 'parti', 'particip', 'particular', 'partit', 'partner', 'partnership', 'pas', 'passion', 'past', 'pastor', 'path', 'pathet', 'pathway', 'patricia', 'patriot', 'patrol', 'paul', 'paus', 'pay', 'payer', 'payment', 'peac', 'peanut', 'penal', 'penc', 'pennpoint', 'pennsylvania', 'peopl', 'per', 'percent', 'perfect', 'perform', 'perhap', 'period', 'perpetr', 'persev', 'persever', 'person', 'perspect', 'pet', 'pete', 'peterson', 'petraeu', 'petti', 'pga', 'phenomen', 'phenomenon', 'phil', 'philadelphia', 'phone', 'pi', 'piano', 'pic', 'pick', 'pictur', 'piec', 'pig', 'pilot', 'pink', 'pitch', 'pivot', 'place', 'plain', 'plan', 'plane', 'plant', 'platform', 'platt', 'play', 'player', 'plea', 'pledg', 'plenti', 'plot', 'plu', 'plumber', 'plymouth', 'pocahonta', 'pocket', 'point', 'poison', 'pole', 'polic', 'policeman', 'polici', 'polit', 'politician', 'poll', 'pond', 'poor', 'poorest', 'poorli', 'pope', 'popular', 'posit', 'possibl', 'post', 'potenti', 'potomac', 'poughkeepsi', 'pour', 'poverti', 'power', 'practic', 'pray', 'prayer', 'preciou', 'predict', 'predictor', 'prefer', 'premium', 'prep', 'prepar', 'presbyterian', 'prescript', 'present', 'preserv', 'presid', 'presidenti', 'press', 'pretti', 'prevent', 'preview', 'previou', 'previous', 'prey', 'price', 'primari', 'prime', 'principl', 'print', 'prior', 'prioriti', 'privat', 'prize', 'prob', 'probabl', 'problem', 'procedur', 'process', 'produc', 'product', 'profess', 'profession', 'prognosi', 'program', 'progress', 'project', 'promis', 'prompt', 'prone', 'proper', 'properli', 'properti', 'propos', 'prosper', 'protect', 'protector', 'protest', 'proud', 'prove', 'proven', 'provid', 'psycholog', 'public', 'publicli', 'pul', 'pull', 'puma', 'pundit', 'pupal', 'pupil', 'pure', 'purpos', 'pursu', 'push', 'put', 'putin', 'puzzl', 'quadripleg', 'qualifi', 'qualiti', 'quarterback', 'queen', 'question', 'quick', 'quickli', 'quietli', 'quit', 'rabbi', 'race', 'racist', 'radiant', 'radic', 'radio', 'raid', 'rain', 'rais', 'raley', 'ralli', 'ran', 'rana', 'rang', 'rank', 'ransom', 'rant', 'rare', 'rasmussen', 'ratchet', 'rate', 'rather', 'rave', 'reach', 'react', 'read', 'readi', 'reagan', 'real', 'realiz', 'realli', 'reappoint', 'reason', 'rebuild', 'rebuilt', 'receiv', 'recent', 'recheck', 'recipi', 'recogn', 'record', 'recordbreak', 'recoveri', 'recruit', 'red', 'reduc', 'reelect', 'reform', 'refuge', 'refus', 'regain', 'regard', 'region', 'regist', 'regret', 'regul', 'regulatori', 'reign', 'rel', 'relat', 'relationship', 'relax', 'releas', 'religi', 'religion', 'remark', 'rememb', 'remembr', 'remov', 'rene', 'renegoti', 'rent', 'reopen', 'rep', 'repeal', 'replac', 'report', 'repres', 'republican', 'reput', 'resid', 'resist', 'resolv', 'reson', 'resourc', 'respect', 'respons', 'rest', 'restor', 'restructur', 'result', 'retail', 'retir', 'retract', 'return', 'reutersipso', 'reveal', 'revel', 'revers', 'review', 'revit', 'reviv', 'reward', 'rhetor', 'rhode', 'rich', 'richest', 'rick', 'rid', 'ridicul', 'rifl', 'rig', 'right', 'righteou', 'ring', 'ringlead', 'rio', 'riot', 'rip', 'rise', 'risk', 'river', 'road', 'roadway', 'roam', 'roanok', 'roar', 'rob', 'rocker', 'rocket', 'roll', 'rolla', 'romney', 'ronald', 'roof', 'room', 'root', 'rose', 'rosemari', 'rosi', 'rot', 'rotten', 'rough', 'roughen', 'round', 'rout', 'routin', 'rove', 'row', 'rubio', 'rudolph', 'ruffin', 'ruin', 'rule', 'rum', 'rump', 'run', 'runin', 'rusev', 'rush', 'russia', 'rustl', 'rut', 'sad', 'saddest', 'safe', 'safer', 'safest', 'safeti', 'said', 'sailor', 'sale', 'salmon', 'salut', 'samaritan', 'san', 'sanctiti', 'sanctuari', 'sand', 'sander', 'sandwich', 'sang', 'saniti', 'sarah', 'sasa', 'sat', 'saturday', 'saudi', 'sauna', 'save', 'saw', 'say', 'scale', 'scalia', 'scandal', 'scene', 'scheme', 'school', 'schoolag', 'schultz', 'scold', 'score', 'scott', 'screen', 'screw', 'sea', 'sec', 'second', 'secret', 'secretari', 'secretariat', 'secretli', 'section', 'secur', 'see', 'seed', 'seek', 'seem', 'seen', 'selffund', 'sell', 'seller', 'sen', 'senat', 'send', 'senior', 'sent', 'sentenc', 'sequest', 'sergeant', 'seri', 'seriou', 'serious', 'serv', 'server', 'servic', 'set', 'seven', 'seventeen', 'seventh', 'seventi', 'sever', 'sexual', 'shake', 'shale', 'shape', 'share', 'sharon', 'shaw', 'she', 'shed', 'sheer', 'sheet', 'sheldon', 'shell', 'sheriff', 'shield', 'shift', 'ship', 'shirt', 'shit', 'shock', 'shoe', 'shoot', 'shooter', 'shop', 'shopper', 'short', 'shorten', 'shortli', 'shot', 'shouldnt', 'shout', 'show', 'shred', 'shut', 'sibl', 'sick', 'sid', 'side', 'sieg', 'sight', 'sign', 'signatur', 'significantli', 'silent', 'silli', 'silver', 'similar', 'simpl', 'simpli', 'simplic', 'sinatra', 'sinc', 'sincer', 'singapor', 'singl', 'sir', 'sister', 'sit', 'situat', 'six', 'sixteen', 'sixteenth', 'sixth', 'sixti', 'sixtytwo', 'size', 'skip', 'skyscrap', 'slash', 'sleep', 'slide', 'slightli', 'slipper', 'slow', 'slur', 'smack', 'small', 'smaller', 'smallest', 'smart', 'smarter', 'smartest', 'smead', 'smile', 'smotret', 'snap', 'soak', 'soandso', 'socal', 'social', 'societi', 'soft', 'sold', 'soldier', 'solut', 'solv', 'somali', 'somebodi', 'someday', 'someon', 'someplac', 'someth', 'sometim', 'son', 'song', 'soni', 'soon', 'sophist', 'sorri', 'sorrow', 'sort', 'soul', 'sound', 'sourc', 'south', 'southeast', 'southern', 'soviet', 'space', 'speak', 'speaker', 'spear', 'special', 'specialist', 'speech', 'spend', 'spent', 'spill', 'spin', 'spirit', 'spoil', 'spoke', 'spot', 'spread', 'sprint', 'squar', 'squeez', 'st', 'stab', 'stabil', 'stack', 'stadium', 'staff', 'staffer', 'stage', 'stagger', 'stake', 'stand', 'standard', 'star', 'start', 'stat', 'state', 'statement', 'station', 'statist', 'statistician', 'statu', 'stay', 'steak', 'steal', 'steam', 'steel', 'steinl', 'step', 'sterl', 'steve', 'still', 'stink', 'stock', 'stolen', 'stone', 'stood', 'stop', 'store', 'stori', 'storm', 'straight', 'straighten', 'strang', 'strangl', 'strap', 'strategi', 'street', 'strength', 'strengthen', 'strike', 'strip', 'strong', 'stronger', 'strongest', 'stronghold', 'strongli', 'structur', 'struggl', 'stuck', 'student', 'studi', 'stuff', 'stupid', 'subject', 'subpoena', 'subsidi', 'substanti', 'success', 'suck', 'sucker', 'sudden', 'suddenli', 'sue', 'suffer', 'suffolk', 'suggest', 'suicid', 'sum', 'summer', 'sunday', 'sununu', 'sup', 'super', 'superstar', 'support', 'suppos', 'supposedli', 'suprem', 'sure', 'surg', 'surgeon', 'surpris', 'survey', 'surviv', 'suspect', 'suspend', 'swamp', 'swanson', 'swear', 'sweat', 'sweden', 'sweet', 'sweetheart', 'swiss', 'switch', 'syria', 'syrian', 'system', 'tabl', 'take', 'taken', 'talent', 'taliban', 'talk', 'talker', 'taller', 'tape', 'target', 'tariff', 'tarmac', 'tast', 'taught', 'tax', 'taxi', 'taxpay', 'teacher', 'team', 'tear', 'ted', 'telephon', 'teleprompt', 'televis', 'tell', 'temper', 'ten', 'tenant', 'tenni', 'tenur', 'term', 'termin', 'terra', 'terribl', 'terrier', 'terrif', 'terror', 'terrorist', 'test', 'testitud', 'texa', 'textin', 'textur', 'thank', 'that', 'thatll', 'theft', 'theme', 'there', 'therefor', 'therel', 'theyd', 'theyll', 'theyr', 'theyv', 'thing', 'think', 'thinkin', 'third', 'thirdworld', 'thirteen', 'thirti', 'thirtyf', 'thirtyfour', 'thoma', 'thornton', 'though', 'thought', 'thousand', 'threat', 'threaten', 'three', 'threw', 'thrive', 'throat', 'throughout', 'throw', 'thug', 'ticklish', 'tie', 'tienen', 'tiffani', 'till', 'tim', 'time', 'timelin', 'tini', 'tire', 'titl', 'today', 'toddler', 'togeth', 'told', 'tom', 'tommi', 'tomorrow', 'tone', 'tongu', 'tonight', 'took', 'tool', 'top', 'torch', 'tortur', 'total', 'touch', 'touchin', 'tough', 'toughen', 'tougher', 'toughest', 'toward', 'tower', 'town', 'tpp', 'track', 'tractor', 'trade', 'trader', 'tradit', 'traffic', 'tragic', 'trailer', 'train', 'traitor', 'transact', 'transfer', 'translat', 'transpacif', 'transport', 'trap', 'trapp', 'travel', 'tray', 'treat', 'treati', 'tree', 'tremend', 'trey', 'tri', 'trial', 'trick', 'trigger', 'trillion', 'trip', 'tripl', 'trojan', 'troop', 'troubl', 'truck', 'true', 'truli', 'trump', 'trumpet', 'trunk', 'truth', 'tuck', 'tuesday', 'turn', 'turnaround', 'twelv', 'twenti', 'twentysecond', 'twentyseven', 'twice', 'twitter', 'two', 'twoway', 'type', 'typo', 'ufo', 'ugli', 'uh', 'uhhuh', 'ultim', 'um', 'unaccept', 'unbeliev', 'unbroken', 'uncl', 'underfund', 'understaf', 'understand', 'understood', 'underwat', 'underway', 'unemploy', 'unfair', 'unfairli', 'unfit', 'unfortun', 'unfre', 'unhappi', 'uninspir', 'union', 'unison', 'unit', 'uniti', 'unleash', 'unless', 'unlik', 'unlimit', 'unlock', 'unnecessari', 'unpopular', 'unpreced', 'unsaf', 'unsign', 'untap', 'unworthi', 'upgrad', 'uphold', 'upholsteri', 'upi', 'upon', 'upset', 'upstair', 'upstat', 'usa', 'use', 'usual', 'va', 'vacat', 'vacuum', 'vain', 'valley', 'valor', 'valu', 'vanessa', 'vanish', 'variou', 'vega', 'vehicl', 'venezuela', 'vent', 'ventur', 'venu', 'verdict', 'versatil', 'version', 'vessel', 'vet', 'veteran', 'vettel', 'via', 'vice', 'viciou', 'vicious', 'victim', 'victor', 'victori', 'video', 'vietnam', 'view', 'viewer', 'vigil', 'violat', 'violenc', 'violent', 'virginia', 'virtual', 'visa', 'visit', 'vital', 'vivid', 'vocal', 'voic', 'volunt', 'vote', 'voter', 'wage', 'waist', 'wait', 'wake', 'walk', 'walker', 'wall', 'want', 'war', 'warm', 'warmth', 'washington', 'wasnt', 'wasserman', 'wast', 'watch', 'water', 'wave', 'way', 'wealth', 'wealthi', 'weapon', 'wear', 'wed', 'weed', 'week', 'weekend', 'weight', 'weiner', 'weird', 'welcom', 'welfar', 'well', 'went', 'werent', 'west', 'western', 'wet', 'weve', 'what', 'whatev', 'whatsoev', 'wheat', 'wheelchair', 'wheelhous', 'whenev', 'where', 'wherea', 'wherev', 'whether', 'white', 'whittak', 'whiz', 'who', 'whoa', 'whoever', 'whole', 'whose', 'whove', 'wick', 'wide', 'wider', 'wife', 'wigan', 'wigga', 'wikileak', 'wilkerson', 'will', 'willi', 'win', 'wind', 'window', 'winner', 'wipe', 'wisconsin', 'wise', 'wish', 'wit', 'withdraw', 'within', 'without', 'wive', 'woman', 'wonder', 'wont', 'word', 'work', 'worker', 'world', 'worldclass', 'worn', 'worri', 'wors', 'worst', 'worth', 'would', 'wouldnt', 'wound', 'wow', 'wreak', 'write', 'writer', 'written', 'wrong', 'wrote', 'wto', 'yawn', 'yay', 'ye', 'yeah', 'year', 'yearn', 'yearold', 'yesterday', 'yet', 'york', 'yorker', 'youd', 'youll', 'young', 'younger', 'your', 'youth', 'youv', 'zand', 'zero', 'zone']\n"
     ]
    }
   ],
   "source": [
    "# TFIDF \n",
    "tfidf_vec = TfidfVectorizer()\n",
    "tfidf = tfidf_vec.fit_transform(clean_subs)\n",
    "print(\"TFIDF:\")\n",
    "print(tfidf)\n",
    "print(sep)\n",
    "print(tfidf_vec.get_feature_names())"
   ]
  },
  {
   "cell_type": "markdown",
   "metadata": {},
   "source": [
    "## Text Classification (30 marks) "
   ]
  },
  {
   "cell_type": "markdown",
   "metadata": {},
   "source": [
    "### Task 1\n",
    "When choosing a metric to access the performance of your classifier provide a brief explanation of why you chose that metric.\n",
    "\n",
    "Overall, both methods are good supervised machine learning classification methods.\n",
    "\n",
    "- Logistic Regression:\n",
    "    * very good option since the target varaible (sentiment column) is binary (0,1).\n",
    "    * the encoded data from TF and TFIDF supply good values.\n",
    "\n",
    "- SVM:\n",
    "    * also good at solving regression problems like this.\n",
    "    * similarly to logistic regression as a model: it also excels at solving a non-probabilistic binary problem.\n",
    "    "
   ]
  },
  {
   "cell_type": "markdown",
   "metadata": {},
   "source": [
    "## Task 2\n",
    "Perform the following classification experiments keeping track of the performance of each classification task for future use: \n",
    "1. Logistic regression model on word count \n",
    "2. Logistic regression model on TFIDF \n",
    "3. Logistic regression model on TFIDF + ngram \n",
    "4. Support Vector Machine model on word count \n",
    "5. Support Vector Machine model on TFIDF \n",
    "6. Support Vector Machine model on TFIDF + ngram"
   ]
  },
  {
   "cell_type": "code",
   "execution_count": 11,
   "metadata": {},
   "outputs": [],
   "source": [
    "def text_fit(X, y, model, clf_model):\n",
    "    \"\"\"\n",
    "    X - data\n",
    "    y - target variables\n",
    "    model - model for the word processing, tfidf, countvectorization etc\n",
    "    clf_model - classification algorithm, classifier (in this case, logistic regression)\n",
    "    coef_show - show the top coeefs if true (1)\n",
    "    \"\"\"\n",
    "    X_c = model.fit_transform(X)\n",
    "    X_train, X_test, y_train, y_test = train_test_split(X_c, y, random_state=0)\n",
    "    clf = clf_model.fit(X_train, y_train)\n",
    "    y_pred = clf.predict(X_test)\n",
    "    recall = recall_score(y_test, y_pred)\n",
    "    acc = accuracy_score(y_test, y_pred)\n",
    "    \n",
    "#     print('type(X_c): ', type(X_c)) # sparse matrix\n",
    "    print('# features: {}'.format(X_c.shape[1]))\n",
    "    print('# train records: {}'.format(X_train.shape[0]))\n",
    "    print('# test records: {}'.format(X_test.shape[0]))\n",
    "    print('Model Recall: {}'.format(recall))\n",
    "    print('Model Accuracy: {}'.format(acc))\n",
    "    \n",
    "    w = model.get_feature_names()\n",
    "    coef = clf.coef_.tolist()[0] # ??\n",
    "    coeff_df = pd.DataFrame({\n",
    "        'Word': w, 'Coefficient': coef\n",
    "    })\n",
    "    coeff_df = coeff_df.sort_values(\n",
    "        ['Coefficient', 'Word'], ascending=[0,1]\n",
    "    )\n",
    "    print(sep)\n",
    "    print('-Top 5 positive-')\n",
    "    print(coeff_df.head(5).to_string(index=False))\n",
    "    print(sep)\n",
    "    print('-Top 5 negative')\n",
    "    print(coeff_df.tail(5).to_string(index=False))\n",
    "    \n",
    "    return recall, acc"
   ]
  },
  {
   "cell_type": "code",
   "execution_count": 12,
   "metadata": {},
   "outputs": [],
   "source": [
    "df = df[df['average_rating'] != avg_score] # remove mean values so the classifiers give more meaningful predictions\n",
    "X = df['subtitle_clean'] # data\n",
    "y = df['sentiment'] # target variable\n",
    "\n",
    "c = CountVectorizer()\n",
    "tfidf = TfidfVectorizer()"
   ]
  },
  {
   "cell_type": "code",
   "execution_count": 13,
   "metadata": {},
   "outputs": [
    {
     "data": {
      "text/plain": [
       "0    presid unit state mr go trapp famili thank app...\n",
       "1    offici tuesday novemb ever think youd hear maj...\n",
       "2    music music music great countri leader free un...\n",
       "3    welcom star presid music place live place wow ...\n",
       "4    thank music great peopl granna three day go wi...\n",
       "Name: subtitle_clean, dtype: object"
      ]
     },
     "execution_count": 13,
     "metadata": {},
     "output_type": "execute_result"
    }
   ],
   "source": [
    "X.head()"
   ]
  },
  {
   "cell_type": "code",
   "execution_count": 14,
   "metadata": {},
   "outputs": [
    {
     "data": {
      "text/plain": [
       "0    0\n",
       "1    0\n",
       "2    1\n",
       "3    0\n",
       "4    1\n",
       "Name: sentiment, dtype: int64"
      ]
     },
     "execution_count": 14,
     "metadata": {},
     "output_type": "execute_result"
    }
   ],
   "source": [
    "y.head()"
   ]
  },
  {
   "cell_type": "code",
   "execution_count": 15,
   "metadata": {},
   "outputs": [
    {
     "name": "stdout",
     "output_type": "stream",
     "text": [
      "# features: 2904\n",
      "# train records: 7\n",
      "# test records: 3\n",
      "Model Recall: 0.0\n",
      "Model Accuracy: 0.3333333333333333\n",
      "============================================================================================\n",
      "# features: 2904\n",
      "# train records: 7\n",
      "# test records: 3\n",
      "Model Recall: 0.5\n",
      "Model Accuracy: 0.6666666666666666\n"
     ]
    }
   ],
   "source": [
    "# Logistic regression and SVM models on word count (tf)\n",
    "recall_LR_tf, acc_LR_tf = text_fit(X, y, c, LogisticRegression())\n",
    "print(sep)\n",
    "recall_SVM_tf, acc_SVM_tf = text_fit(X, y, c, LinearSVC())"
   ]
  },
  {
   "cell_type": "code",
   "execution_count": 16,
   "metadata": {},
   "outputs": [
    {
     "name": "stdout",
     "output_type": "stream",
     "text": [
      "# features: 2904\n",
      "# train records: 7\n",
      "# test records: 3\n",
      "Model Recall: 0.0\n",
      "Model Accuracy: 0.3333333333333333\n",
      "============================================================================================\n",
      "# features: 2904\n",
      "# train records: 7\n",
      "# test records: 3\n",
      "Model Recall: 0.0\n",
      "Model Accuracy: 0.3333333333333333\n"
     ]
    }
   ],
   "source": [
    "# Logistic regression and SVM on tfidf\n",
    "recall_LR_tfidf, acc_LR_tfidf = text_fit(X, y, tfidf, LogisticRegression())\n",
    "print(sep)\n",
    "recall_SVM_tfidf, acc_SVM_tfidf = text_fit(X, y, tfidf, LinearSVC())"
   ]
  },
  {
   "cell_type": "code",
   "execution_count": 17,
   "metadata": {},
   "outputs": [
    {
     "name": "stdout",
     "output_type": "stream",
     "text": [
      "# features: 23300\n",
      "# train records: 7\n",
      "# test records: 3\n",
      "Model Recall: 0.0\n",
      "Model Accuracy: 0.3333333333333333\n",
      "============================================================================================\n",
      "# features: 23300\n",
      "# train records: 7\n",
      "# test records: 3\n",
      "Model Recall: 0.0\n",
      "Model Accuracy: 0.3333333333333333\n"
     ]
    }
   ],
   "source": [
    "# Logistic regression and SVM on tfidf and ngram\n",
    "recall_LR_tfidf_ngram, acc_LR_tfidf_ngram = text_fit(X, y, TfidfVectorizer(ngram_range=(1,2)), LogisticRegression())\n",
    "print(sep)\n",
    "recall_SVM_tfidf_ngram, acc_SVM_tfidf_ngram = text_fit(X, y, TfidfVectorizer(ngram_range=(1,2)), LinearSVC())"
   ]
  },
  {
   "cell_type": "code",
   "execution_count": 18,
   "metadata": {},
   "outputs": [
    {
     "data": {
      "text/html": [
       "<div>\n",
       "<style scoped>\n",
       "    .dataframe tbody tr th:only-of-type {\n",
       "        vertical-align: middle;\n",
       "    }\n",
       "\n",
       "    .dataframe tbody tr th {\n",
       "        vertical-align: top;\n",
       "    }\n",
       "\n",
       "    .dataframe thead th {\n",
       "        text-align: right;\n",
       "    }\n",
       "</style>\n",
       "<table border=\"1\" class=\"dataframe\">\n",
       "  <thead>\n",
       "    <tr style=\"text-align: right;\">\n",
       "      <th></th>\n",
       "      <th>Model</th>\n",
       "      <th>Recall</th>\n",
       "      <th>Accuracy</th>\n",
       "    </tr>\n",
       "  </thead>\n",
       "  <tbody>\n",
       "    <tr>\n",
       "      <th>1</th>\n",
       "      <td>SVM on TF</td>\n",
       "      <td>0.5</td>\n",
       "      <td>0.666667</td>\n",
       "    </tr>\n",
       "    <tr>\n",
       "      <th>0</th>\n",
       "      <td>LR on TF</td>\n",
       "      <td>0.0</td>\n",
       "      <td>0.333333</td>\n",
       "    </tr>\n",
       "    <tr>\n",
       "      <th>2</th>\n",
       "      <td>LR on TFIDF</td>\n",
       "      <td>0.0</td>\n",
       "      <td>0.333333</td>\n",
       "    </tr>\n",
       "    <tr>\n",
       "      <th>3</th>\n",
       "      <td>SVM on TFIDF</td>\n",
       "      <td>0.0</td>\n",
       "      <td>0.333333</td>\n",
       "    </tr>\n",
       "    <tr>\n",
       "      <th>4</th>\n",
       "      <td>LR on TFIDF w/ Ngram=2</td>\n",
       "      <td>0.0</td>\n",
       "      <td>0.333333</td>\n",
       "    </tr>\n",
       "    <tr>\n",
       "      <th>5</th>\n",
       "      <td>SVM on TFIDF w/ Ngram=2</td>\n",
       "      <td>0.0</td>\n",
       "      <td>0.333333</td>\n",
       "    </tr>\n",
       "  </tbody>\n",
       "</table>\n",
       "</div>"
      ],
      "text/plain": [
       "                     Model  Recall  Accuracy\n",
       "1                SVM on TF     0.5  0.666667\n",
       "0                 LR on TF     0.0  0.333333\n",
       "2              LR on TFIDF     0.0  0.333333\n",
       "3             SVM on TFIDF     0.0  0.333333\n",
       "4   LR on TFIDF w/ Ngram=2     0.0  0.333333\n",
       "5  SVM on TFIDF w/ Ngram=2     0.0  0.333333"
      ]
     },
     "execution_count": 18,
     "metadata": {},
     "output_type": "execute_result"
    }
   ],
   "source": [
    "models = pd.DataFrame({\n",
    "    'Model': [\n",
    "        'LR on TF', 'SVM on TF',\n",
    "        'LR on TFIDF', 'SVM on TFIDF',\n",
    "        'LR on TFIDF w/ Ngram=2', 'SVM on TFIDF w/ Ngram=2'\n",
    "    ],\n",
    "    'Recall': [\n",
    "        recall_LR_tf, recall_SVM_tf,\n",
    "        recall_LR_tfidf, recall_SVM_tfidf,\n",
    "        recall_LR_tfidf_ngram, recall_SVM_tfidf_ngram\n",
    "    ],\n",
    "    'Accuracy': [\n",
    "        acc_LR_tf, acc_SVM_tf,\n",
    "        acc_LR_tfidf, acc_SVM_tfidf,\n",
    "        acc_LR_tfidf_ngram, acc_SVM_tfidf_ngram\n",
    "    ],\n",
    "})\n",
    "\n",
    "models.sort_values(by='Accuracy', ascending=False)"
   ]
  },
  {
   "cell_type": "code",
   "execution_count": 19,
   "metadata": {},
   "outputs": [
    {
     "data": {
      "text/plain": [
       "<matplotlib.axes._subplots.AxesSubplot at 0x1da2247a288>"
      ]
     },
     "execution_count": 19,
     "metadata": {},
     "output_type": "execute_result"
    },
    {
     "data": {
      "image/png": "[encoded data removed]",
      "text/plain": [
       "<Figure size 576x288 with 1 Axes>"
      ]
     },
     "metadata": {},
     "output_type": "display_data"
    }
   ],
   "source": [
    "sns.barplot(x='Recall', y='Model', data=models)"
   ]
  },
  {
   "cell_type": "code",
   "execution_count": 20,
   "metadata": {},
   "outputs": [
    {
     "data": {
      "text/plain": [
       "<matplotlib.axes._subplots.AxesSubplot at 0x1da22499f88>"
      ]
     },
     "execution_count": 20,
     "metadata": {},
     "output_type": "execute_result"
    },
    {
     "data": {
      "image/png": "[encoded data removed]",
      "text/plain": [
       "<Figure size 576x288 with 1 Axes>"
      ]
     },
     "metadata": {},
     "output_type": "display_data"
    }
   ],
   "source": [
    "sns.barplot(x='Accuracy', y='Model', data=models)"
   ]
  },
  {
   "cell_type": "markdown",
   "metadata": {},
   "source": [
    "As we can see, both models are performing very well on the data while using both text classifiers."
   ]
  },
  {
   "cell_type": "markdown",
   "metadata": {},
   "source": [
    "## Topic Modeling (20 marks)\n",
    "Using TFIDF and Count Vectorizer models imported for sklearn, perform topic modelling using the following topic modeling algorithms:\n",
    "1. NMF\n",
    "2. LDA\n",
    "3. SVD."
   ]
  }
 ],
 "metadata": {
  "kernelspec": {
   "display_name": "Python 3",
   "language": "python",
   "name": "python3"
  },
  "language_info": {
   "codemirror_mode": {
    "name": "ipython",
    "version": 3
   },
   "file_extension": ".py",
   "mimetype": "text/x-python",
   "name": "python",
   "nbconvert_exporter": "python",
   "pygments_lexer": "ipython3",
   "version": "3.7.6"
  }
 },
 "nbformat": 4,
 "nbformat_minor": 4
}
