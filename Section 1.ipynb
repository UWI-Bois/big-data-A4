{
 "cells": [
  {
   "cell_type": "markdown",
   "metadata": {},
   "source": [
    "## ID : 816000325\n",
    "## Name: Ajay Sieunarine\n",
    "## Email: ajay.sieunarine@my.uwi.edu\n",
    "## Repo: https://github.com/jefroy/big-data-A4"
   ]
  },
  {
   "cell_type": "code",
   "execution_count": 10,
   "metadata": {},
   "outputs": [],
   "source": [
    "# math and graph stuff\n",
    "import pandas as pd\n",
    "import numpy as np\n",
    "import matplotlib.pyplot as plt\n",
    "import seaborn as sns\n",
    "\n",
    "# text analysis stuff\n",
    "import nltk\n",
    "import string\n",
    "from nltk import ngrams\n",
    "from sklearn.feature_extraction.text import CountVectorizer\n",
    "from sklearn.feature_extraction.text import TfidfVectorizer\n",
    "from nltk.corpus import stopwords\n",
    "from nltk.stem import WordNetLemmatizer\n",
    "from string import punctuation\n",
    "\n",
    "# ML stuff\n",
    "from sklearn.linear_model import LogisticRegression\n",
    "from sklearn.model_selection import train_test_split\n",
    "from sklearn.metrics import recall_score, f1_score\n",
    "from sklearn import svm\n",
    "from sklearn.decomposition import NMF, LatentDirichletAllocation, TruncatedSVD\n",
    "\n",
    "# utility stuff\n",
    "from sklearn.utils import shuffle\n",
    "from itertools import chain\n",
    "\n",
    "\n",
    "sep = '=============================================='"
   ]
  },
  {
   "cell_type": "markdown",
   "metadata": {},
   "source": [
    "# Warm Up (20 marks) "
   ]
  },
  {
   "cell_type": "code",
   "execution_count": 11,
   "metadata": {},
   "outputs": [
    {
     "name": "stdout",
     "output_type": "stream",
     "text": [
      "<class 'numpy.ndarray'>\n",
      "[[2 0 2]\n",
      " [2 2 0]\n",
      " [2 4 0]\n",
      " [0 4 2]\n",
      " [1 4 1]]\n"
     ]
    }
   ],
   "source": [
    "# documents/sentences\n",
    "corpus = [ \n",
    "    'Apple Orange Orange Apple',\n",
    "    'Apple Banana Apple Banana',\n",
    "    'Banana Apple Banana Banana Banana Apple',\n",
    "    'Banana Orange Banana Banana Orange Banana',\n",
    "    'Banana Apple Banana Banana Orange Banana'\n",
    "]\n",
    "\n",
    "def corp2vec(corpus):\n",
    "    '''\n",
    "    This function converts a document to a vector showing its term frequencies.\n",
    "    Each column represents a term in the corpus. (in this case, there are 3 terms).\n",
    "    Uses CountVectorizer() as a model.\n",
    "    '''\n",
    "    tf_vectorizer = CountVectorizer() # model\n",
    "    tf = tf_vectorizer.fit_transform(corpus) # get term frequencies\n",
    "    return tf.A # return the array representation\n",
    "\n",
    "print(type(corp2vec(corpus)))\n",
    "print(corp2vec(corpus))"
   ]
  }
 ],
 "metadata": {
  "kernelspec": {
   "display_name": "Python 3",
   "language": "python",
   "name": "python3"
  },
  "language_info": {
   "codemirror_mode": {
    "name": "ipython",
    "version": 3
   },
   "file_extension": ".py",
   "mimetype": "text/x-python",
   "name": "python",
   "nbconvert_exporter": "python",
   "pygments_lexer": "ipython3",
   "version": "3.7.6"
  }
 },
 "nbformat": 4,
 "nbformat_minor": 4
}
